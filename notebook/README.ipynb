{
 "cells": [
  {
   "cell_type": "markdown",
   "metadata": {
    "tags": []
   },
   "source": [
    "# Fractal Governance"
   ]
  },
  {
   "cell_type": "markdown",
   "metadata": {
    "jp-MarkdownHeadingCollapsed": true,
    "tags": []
   },
   "source": [
    "## Table of Contents\n",
    "<!-- START doctoc -->\n",
    "<!-- END doctoc -->"
   ]
  },
  {
   "cell_type": "markdown",
   "metadata": {
    "jp-MarkdownHeadingCollapsed": true,
    "tags": []
   },
   "source": [
    "## Introduction\n",
    "\n",
    "[Datasets](data), [Jupyter notebooks](notebook/README.ipynb) and [Streamlit dashboards](https://share.streamlit.io/matt-langston/fractal_governance/main/fractal_governance/streamlit/genesis_fractal.py) for Fractal Governance\n",
    "\n",
    "The motivation for this repository is to advance the understanding of Fractal Governance. The [datasets](data) from our [experimental apparatus](https://gofractally.com) will be of particular interest to data scientists, researchers and educators.\n",
    "\n",
    "## What is Fractal Governance?\n",
    "\n",
    "The goal of Fractal Governance is lofty: incentivize people to collaborate in the production of public goods and services that also eliminates corruption and graft in the process.\n",
    "\n",
    "The principles of Fractal Governance are described in the book [More Equal Animals](https://moreequalanimals.com) by Daniel Larimer, and the technical specifications for how to implement Fractal Governance at scale is defined in the [fractally White Paper](https://fractally.com). This article presents an analysis of the initial results of the first group of people to govern themselves according to these principles and technical specifications.\n",
    "\n",
    "These pioneers call their group [Genesis](https://gofractally.com/groups/7064857/feed) and refer to it as a Fractal. The Genesis members meet weekly to mine the inherent value of their collaboration to produce public goods and services and return that mined value, tokenized in units called *Respect*, directly back to its members through a governance process that naturally prevents corruption and graft. This incorruptibility is the defining feature of Fractal Governance.\n",
    "\n",
    "Fractal Governance directly and consistently rewards individuals for their recent past contributions towards the creation of public goods and services that also avoids the formation of Pareto distributions due to corruption and graft found in all other known forms of governance. Gone are the days of rewarding collusion with illicit gains (such as currency) from dishonest behavior or other questionable means.\n",
    "\n",
    "Analogous to Bitcoin's *Proof of Work* consensus algorithm which rewards people for transforming stored energy, in the form of electricity, into an incorruptible public ledger of account, a collaboration of people governed in a Fractal nature also uses a *Proof of Work* consensus algorithm to reward people for transforming stored energy, in the form of human collaboration, into public goods and services.\n",
    "\n",
    "The fundamental difference between the two consensus algorithms is in how rewards are allocated. The Bitcoin model allocates rewards called BTC tokens to those who consume the most electricity most consistently. The Fractal model, on the other hand, allocates rewards called Respect tokens to those who contribute the most value most consistently, as judged by their peers.\n",
    "\n",
    "The Bitcoin consensus algorithm is prone to corruption and graft because it rewards those that obtain the most consistent source of electricity by any means whatsoever, illicit or otherwise. The Fractal Governance consensus algorithm, on the other hand, prevents corruption and graft by eliminating opportunities for collusion.\n",
    "\n",
    "The nature of how the rewards from the Bitcoin and Fractal Governance systems are recorded is similar in  that both systems use a blockchain for their public ledger of account.\n",
    "\n",
    "You can [immediately explore the Genesis Fractal dataset](https://share.streamlit.io/matt-langston/fractal_governance/main/fractal_governance/streamlit/genesis_fractal.py) before returning here to continue your exploration. The dataset for this dashboard is curated by [Gregory Wexler](https://gofractally.com/members/10362727), [Joshua Seymour](https://gofractally.com/members/10361546) and [Matt Langston](https://gofractally.com/members/10426315)."
   ]
  },
  {
   "cell_type": "markdown",
   "metadata": {
    "jp-MarkdownHeadingCollapsed": true,
    "tags": []
   },
   "source": [
    "## Getting Started for Data Scientists\n",
    "\n",
    "I use my M1 MacBook with [MacPorts](https://www.macports.org) for the steps labeled **one time setup**.\n",
    "\n",
    "### Step 1 (one time setup):\n",
    "\n",
    "Install [python 3.9](https://docs.python.org/3.9/) and [pipenv](https://pipenv.pypa.io/en/latest/). I do this using MacPorts.\n",
    "\n",
    "```bash\n",
    "sudo port install python39\n",
    "sudo port select --set python3 python39\n",
    "sudo port select --set python python39\n",
    "sudo port install pipenv\n",
    "```\n",
    "\n",
    "### Step 2 (one time setup):\n",
    "\n",
    "Use pipenv to install the python dependencies. Run this command from the top-level directory of this git repository.\n",
    "\n",
    "```bash\n",
    "pipenv install --dev\n",
    "```\n",
    "\n",
    "### Step 3 (optional):\n",
    "\n",
    "Run the Streamlit app. This will run the same dashboard as [Genesis Fractal dataset](https://share.streamlit.io/matt-langston/fractal_governance/main/fractal_governance/streamlit/genesis_fractal.py).\n",
    "\n",
    "```bash\n",
    "pipenv run streamlit run fractal_governance/streamlit/genesis_fractal.py\n",
    "open http://localhost:8501\n",
    "```\n",
    "\n",
    "### Step 4 (optional):\n",
    "\n",
    "Explore the Jupyter notebooks:\n",
    "\n",
    "```bash\n",
    "pipenv run jupyter lab\n",
    "```\n",
    "\n",
    "### Step 5:\n",
    "\n",
    "Start exploring our datasets, models and simulations. What follows is an example analysis of the Genesis fractal's dataset to inspire your own explorations."
   ]
  },
  {
   "cell_type": "markdown",
   "metadata": {
    "tags": []
   },
   "source": [
    "## Example Analysis of the Genesis Fractal"
   ]
  },
  {
   "cell_type": "markdown",
   "metadata": {},
   "source": [
    "### Setup"
   ]
  },
  {
   "cell_type": "code",
   "execution_count": 1,
   "metadata": {},
   "outputs": [],
   "source": [
    "# 3rd party dependencies\n",
    "import matplotlib.pyplot as plt\n",
    "\n",
    "# 2nd party dependencies\n",
    "import fractal_governance.dataset\n",
    "import fractal_governance.plots\n",
    "\n",
    "from fractal_governance.util import GitHubMarkdownDataFrame"
   ]
  },
  {
   "cell_type": "markdown",
   "metadata": {},
   "source": [
    "### A Dataset of Multiple pandas DataFrames"
   ]
  },
  {
   "cell_type": "markdown",
   "metadata": {},
   "source": [
    "Read the Genesis fractal's dataset into a `Dataset` object consisting of multiple convenient pandas DataFrames."
   ]
  },
  {
   "cell_type": "code",
   "execution_count": 2,
   "metadata": {},
   "outputs": [],
   "source": [
    "dataset = fractal_governance.dataset.Dataset.from_csv()"
   ]
  },
  {
   "cell_type": "markdown",
   "metadata": {},
   "source": [
    "List the attributes of this `Dataset` object to see what properties and methods we have to work with."
   ]
  },
  {
   "cell_type": "code",
   "execution_count": 3,
   "metadata": {},
   "outputs": [
    {
     "data": {
      "text/plain": [
       "['_get_new_member_filter_for_meeting_id',\n",
       " 'attendance_consistency_stats',\n",
       " 'attendance_stats',\n",
       " 'df',\n",
       " 'df_member_attendance_new_and_returning_by_meeting',\n",
       " 'df_member_leader_board',\n",
       " 'df_member_level_by_attendance_count',\n",
       " 'df_member_respect_new_and_returning_by_meeting',\n",
       " 'df_member_summary_stats_by_member_id',\n",
       " 'df_team_leader_board',\n",
       " 'df_team_representation_by_date',\n",
       " 'df_team_respect_by_meeting_date',\n",
       " 'from_csv',\n",
       " 'get_new_member_dataframe_for_meeting_id',\n",
       " 'get_returning_member_dataframe_for_meeting_id',\n",
       " 'last_meeting_date',\n",
       " 'team_representation_stats',\n",
       " 'total_meetings',\n",
       " 'total_member_respect',\n",
       " 'total_respect',\n",
       " 'total_team_respect',\n",
       " 'total_unique_members']"
      ]
     },
     "execution_count": 3,
     "metadata": {},
     "output_type": "execute_result"
    }
   ],
   "source": [
    "[attribute for attribute in dir(dataset) if not attribute.startswith('__')]"
   ]
  },
  {
   "cell_type": "markdown",
   "metadata": {
    "tags": []
   },
   "source": [
    "The curated raw data from the Genesis weekly consensus meetings is a pandas DataFrame accessed through the `df` property.\n",
    "\n",
    "The other properties beginning with the prefix `df_` are derived DataFrames from the raw data in the `df` DataFrame.\n",
    "\n",
    "All other properties, `total_respect` for example, are interesting values calculated from the various DataFrames."
   ]
  },
  {
   "cell_type": "code",
   "execution_count": 4,
   "metadata": {},
   "outputs": [
    {
     "data": {
      "text/plain": [
       "21"
      ]
     },
     "execution_count": 4,
     "metadata": {},
     "output_type": "execute_result"
    }
   ],
   "source": [
    "dataset.total_meetings"
   ]
  },
  {
   "cell_type": "code",
   "execution_count": 5,
   "metadata": {},
   "outputs": [
    {
     "data": {
      "text/plain": [
       "117"
      ]
     },
     "execution_count": 5,
     "metadata": {},
     "output_type": "execute_result"
    }
   ],
   "source": [
    "dataset.total_unique_members"
   ]
  },
  {
   "cell_type": "markdown",
   "metadata": {
    "tags": []
   },
   "source": [
    "### DataFrame of Member Leaderboard"
   ]
  },
  {
   "cell_type": "markdown",
   "metadata": {},
   "source": [
    "Inspect the first few rows of the member leaderboard DataFrame based on accumulated level."
   ]
  },
  {
   "cell_type": "code",
   "execution_count": 6,
   "metadata": {
    "tags": []
   },
   "outputs": [
    {
     "data": {
      "text/html": [
       "<table border=\"1\" class=\"dataframe\">\n",
       "  <thead>\n",
       "    <tr style=\"text-align: right;\">\n",
       "      <th>MemberID</th>\n",
       "      <th>Name</th>\n",
       "      <th>AccumulatedLevel</th>\n",
       "      <th>AccumulatedRespect</th>\n",
       "      <th>AttendanceCount</th>\n",
       "    </tr>\n",
       "  </thead>\n",
       "  <tbody>\n",
       "    <tr>\n",
       "      <td>dan</td>\n",
       "      <td>Daniel Larimer</td>\n",
       "      <td>114</td>\n",
       "      <td>386</td>\n",
       "      <td>20</td>\n",
       "    </tr>\n",
       "    <tr>\n",
       "      <td>wildwex</td>\n",
       "      <td>Gregory Wexler</td>\n",
       "      <td>105</td>\n",
       "      <td>319</td>\n",
       "      <td>20</td>\n",
       "    </tr>\n",
       "    <tr>\n",
       "      <td>dansingjoy</td>\n",
       "      <td>Dan Singjoy</td>\n",
       "      <td>97</td>\n",
       "      <td>273</td>\n",
       "      <td>20</td>\n",
       "    </tr>\n",
       "    <tr>\n",
       "      <td>jseymour</td>\n",
       "      <td>Joshua Seymour</td>\n",
       "      <td>91</td>\n",
       "      <td>242</td>\n",
       "      <td>21</td>\n",
       "    </tr>\n",
       "    <tr>\n",
       "      <td>hachtu</td>\n",
       "      <td>Mark Scheer</td>\n",
       "      <td>87</td>\n",
       "      <td>239</td>\n",
       "      <td>18</td>\n",
       "    </tr>\n",
       "    <tr>\n",
       "      <td>dphillippi</td>\n",
       "      <td>Duane Phillippi</td>\n",
       "      <td>84</td>\n",
       "      <td>216</td>\n",
       "      <td>20</td>\n",
       "    </tr>\n",
       "    <tr>\n",
       "      <td>pnc</td>\n",
       "      <td>Pascal Ngu Cho</td>\n",
       "      <td>82</td>\n",
       "      <td>186</td>\n",
       "      <td>20</td>\n",
       "    </tr>\n",
       "    <tr>\n",
       "      <td>mattlangston</td>\n",
       "      <td>Matt Langston</td>\n",
       "      <td>79</td>\n",
       "      <td>209</td>\n",
       "      <td>18</td>\n",
       "    </tr>\n",
       "    <tr>\n",
       "      <td>thomashallgren</td>\n",
       "      <td>Thomas Hallgren</td>\n",
       "      <td>75</td>\n",
       "      <td>230</td>\n",
       "      <td>14</td>\n",
       "    </tr>\n",
       "    <tr>\n",
       "      <td>novacryptollc</td>\n",
       "      <td>Patrick Bernard Schmid</td>\n",
       "      <td>74</td>\n",
       "      <td>186</td>\n",
       "      <td>18</td>\n",
       "    </tr>\n",
       "  </tbody>\n",
       "</table>"
      ],
      "text/plain": [
       "          MemberID                    Name  AccumulatedLevel  \\\n",
       "1              dan          Daniel Larimer               114   \n",
       "2          wildwex          Gregory Wexler               105   \n",
       "3       dansingjoy             Dan Singjoy                97   \n",
       "4         jseymour          Joshua Seymour                91   \n",
       "5           hachtu             Mark Scheer                87   \n",
       "6       dphillippi         Duane Phillippi                84   \n",
       "7              pnc          Pascal Ngu Cho                82   \n",
       "8     mattlangston           Matt Langston                79   \n",
       "9   thomashallgren         Thomas Hallgren                75   \n",
       "10   novacryptollc  Patrick Bernard Schmid                74   \n",
       "\n",
       "    AccumulatedRespect  AttendanceCount  \n",
       "1                  386               20  \n",
       "2                  319               20  \n",
       "3                  273               20  \n",
       "4                  242               21  \n",
       "5                  239               18  \n",
       "6                  216               20  \n",
       "7                  186               20  \n",
       "8                  209               18  \n",
       "9                  230               14  \n",
       "10                 186               18  "
      ]
     },
     "execution_count": 6,
     "metadata": {},
     "output_type": "execute_result"
    }
   ],
   "source": [
    "GitHubMarkdownDataFrame(dataset.df_member_leader_board.head(10))"
   ]
  },
  {
   "cell_type": "markdown",
   "metadata": {},
   "source": [
    "### A Plots Object of Multiple Visualizations"
   ]
  },
  {
   "cell_type": "markdown",
   "metadata": {},
   "source": [
    "Create a `Plots` object that contains interesting visualizations used throughput the remainder of our example analysis."
   ]
  },
  {
   "cell_type": "code",
   "execution_count": 7,
   "metadata": {},
   "outputs": [],
   "source": [
    "plots = fractal_governance.plots.Plots.from_dataset(dataset)"
   ]
  },
  {
   "cell_type": "markdown",
   "metadata": {},
   "source": [
    "List the attributes of this `Plots` object to see what properties and methods we have to work with."
   ]
  },
  {
   "cell_type": "code",
   "execution_count": 8,
   "metadata": {},
   "outputs": [
    {
     "data": {
      "text/plain": [
       "['accumulated_member_respect_vs_time',\n",
       " 'accumulated_member_respect_vs_time_stacked',\n",
       " 'accumulated_team_respect_vs_time',\n",
       " 'accumulated_team_respect_vs_time_stacked',\n",
       " 'attendance_consistency_histogram',\n",
       " 'attendance_count_vs_level',\n",
       " 'attendance_vs_time',\n",
       " 'attendance_vs_time_stacked',\n",
       " 'dataset',\n",
       " 'from_csv',\n",
       " 'from_dataset',\n",
       " 'team_representation_vs_time']"
      ]
     },
     "execution_count": 8,
     "metadata": {},
     "output_type": "execute_result"
    }
   ],
   "source": [
    "[attribute for attribute in dir(plots) if not attribute.startswith('__')]"
   ]
  },
  {
   "cell_type": "markdown",
   "metadata": {},
   "source": [
    "### Plot of Attendance vs Time"
   ]
  },
  {
   "cell_type": "markdown",
   "metadata": {},
   "source": [
    "Plot the attendance vs time for each weekly consensus meeting.\n",
    "\n",
    "The plot demonstrates that a relatively steady state has been reached where a core group of dedicated members is mixed with a steady stream of new participants as interest in Fractal Governance grows."
   ]
  },
  {
   "cell_type": "code",
   "execution_count": 9,
   "metadata": {},
   "outputs": [
    {
     "data": {
      "image/png": "[encoded data removed]",
      "text/plain": [
       "<Figure size 720x432 with 1 Axes>"
      ]
     },
     "metadata": {
      "needs_background": "light"
     },
     "output_type": "display_data"
    }
   ],
   "source": [
    "plots.attendance_vs_time_stacked\n",
    "plt.show()"
   ]
  },
  {
   "cell_type": "markdown",
   "metadata": {},
   "source": [
    "### DataFrame of New and Returning Member Attendance vs Time"
   ]
  },
  {
   "cell_type": "markdown",
   "metadata": {},
   "source": [
    "Inspect the DataFrame of the attendance counts of new members vs returning members for each of the last 12 weekly consensus meeting."
   ]
  },
  {
   "cell_type": "code",
   "execution_count": 10,
   "metadata": {},
   "outputs": [
    {
     "data": {
      "text/html": [
       "<table border=\"1\" class=\"dataframe\">\n",
       "  <thead>\n",
       "    <tr style=\"text-align: right;\">\n",
       "      <th>MeetingDate</th>\n",
       "      <th>MeetingID</th>\n",
       "      <th>NewMemberCount</th>\n",
       "      <th>ReturningMemberCount</th>\n",
       "    </tr>\n",
       "  </thead>\n",
       "  <tbody>\n",
       "    <tr>\n",
       "      <td>2022-07-23</td>\n",
       "      <td>21</td>\n",
       "      <td>2</td>\n",
       "      <td>41</td>\n",
       "    </tr>\n",
       "    <tr>\n",
       "      <td>2022-07-16</td>\n",
       "      <td>20</td>\n",
       "      <td>1</td>\n",
       "      <td>35</td>\n",
       "    </tr>\n",
       "    <tr>\n",
       "      <td>2022-07-09</td>\n",
       "      <td>19</td>\n",
       "      <td>2</td>\n",
       "      <td>31</td>\n",
       "    </tr>\n",
       "    <tr>\n",
       "      <td>2022-07-02</td>\n",
       "      <td>18</td>\n",
       "      <td>1</td>\n",
       "      <td>39</td>\n",
       "    </tr>\n",
       "    <tr>\n",
       "      <td>2022-06-25</td>\n",
       "      <td>17</td>\n",
       "      <td>1</td>\n",
       "      <td>35</td>\n",
       "    </tr>\n",
       "    <tr>\n",
       "      <td>2022-06-18</td>\n",
       "      <td>16</td>\n",
       "      <td>5</td>\n",
       "      <td>37</td>\n",
       "    </tr>\n",
       "    <tr>\n",
       "      <td>2022-06-11</td>\n",
       "      <td>15</td>\n",
       "      <td>1</td>\n",
       "      <td>34</td>\n",
       "    </tr>\n",
       "    <tr>\n",
       "      <td>2022-06-04</td>\n",
       "      <td>14</td>\n",
       "      <td>4</td>\n",
       "      <td>32</td>\n",
       "    </tr>\n",
       "    <tr>\n",
       "      <td>2022-05-28</td>\n",
       "      <td>13</td>\n",
       "      <td>2</td>\n",
       "      <td>33</td>\n",
       "    </tr>\n",
       "    <tr>\n",
       "      <td>2022-05-21</td>\n",
       "      <td>12</td>\n",
       "      <td>3</td>\n",
       "      <td>32</td>\n",
       "    </tr>\n",
       "    <tr>\n",
       "      <td>2022-05-14</td>\n",
       "      <td>11</td>\n",
       "      <td>4</td>\n",
       "      <td>28</td>\n",
       "    </tr>\n",
       "    <tr>\n",
       "      <td>2022-05-07</td>\n",
       "      <td>10</td>\n",
       "      <td>4</td>\n",
       "      <td>34</td>\n",
       "    </tr>\n",
       "  </tbody>\n",
       "</table>"
      ],
      "text/plain": [
       "   MeetingDate  MeetingID  NewMemberCount  ReturningMemberCount\n",
       "20  2022-07-23         21               2                    41\n",
       "19  2022-07-16         20               1                    35\n",
       "18  2022-07-09         19               2                    31\n",
       "17  2022-07-02         18               1                    39\n",
       "16  2022-06-25         17               1                    35\n",
       "15  2022-06-18         16               5                    37\n",
       "14  2022-06-11         15               1                    34\n",
       "13  2022-06-04         14               4                    32\n",
       "12  2022-05-28         13               2                    33\n",
       "11  2022-05-21         12               3                    32\n",
       "10  2022-05-14         11               4                    28\n",
       "9   2022-05-07         10               4                    34"
      ]
     },
     "execution_count": 10,
     "metadata": {},
     "output_type": "execute_result"
    }
   ],
   "source": [
    "GitHubMarkdownDataFrame(dataset.df_member_attendance_new_and_returning_by_meeting.iloc[::-1].head(12))"
   ]
  },
  {
   "cell_type": "markdown",
   "metadata": {},
   "source": [
    "### Average Attendees per Meeting"
   ]
  },
  {
   "cell_type": "markdown",
   "metadata": {},
   "source": [
    "The average number of attendees per meeting."
   ]
  },
  {
   "cell_type": "code",
   "execution_count": 11,
   "metadata": {
    "tags": []
   },
   "outputs": [
    {
     "data": {
      "text/plain": [
       "Statistics(mean=34.76, standard_deviation=7.18)"
      ]
     },
     "execution_count": 11,
     "metadata": {},
     "output_type": "execute_result"
    }
   ],
   "source": [
    "dataset.attendance_stats"
   ]
  },
  {
   "cell_type": "markdown",
   "metadata": {},
   "source": [
    "### Plot of Consistency of Attendance"
   ]
  },
  {
   "cell_type": "markdown",
   "metadata": {},
   "source": [
    "Plot the consistency of attendance for the weekly consensus meetings. This is the total number of meetings attended by a unique member. The first bin counts the number of people who have only attended one weekly consensus meeting."
   ]
  },
  {
   "cell_type": "code",
   "execution_count": 12,
   "metadata": {},
   "outputs": [
    {
     "data": {
      "image/png": "[encoded data removed]",
      "text/plain": [
       "<Figure size 720x432 with 1 Axes>"
      ]
     },
     "metadata": {
      "needs_background": "light"
     },
     "output_type": "display_data"
    }
   ],
   "source": [
    "plots.attendance_consistency_histogram\n",
    "plt.show()"
   ]
  },
  {
   "cell_type": "markdown",
   "metadata": {},
   "source": [
    "### Average Consistency of Attendance"
   ]
  },
  {
   "cell_type": "markdown",
   "metadata": {},
   "source": [
    "The average number of meetings attended by a unique member."
   ]
  },
  {
   "cell_type": "code",
   "execution_count": 13,
   "metadata": {},
   "outputs": [
    {
     "data": {
      "text/plain": [
       "Statistics(mean=6.24, standard_deviation=6.59)"
      ]
     },
     "execution_count": 13,
     "metadata": {},
     "output_type": "execute_result"
    }
   ],
   "source": [
    "dataset.attendance_consistency_stats"
   ]
  },
  {
   "cell_type": "markdown",
   "metadata": {},
   "source": [
    "### DataFrame of New and Returning Member Respect Mined (or Earned) vs Time"
   ]
  },
  {
   "cell_type": "markdown",
   "metadata": {},
   "source": [
    "Inspect the DataFrame for the total amount of member Respect mined (or earned) for each of the last 12 weekly consensus meeting."
   ]
  },
  {
   "cell_type": "code",
   "execution_count": 14,
   "metadata": {},
   "outputs": [
    {
     "data": {
      "text/html": [
       "<table border=\"1\" class=\"dataframe\">\n",
       "  <thead>\n",
       "    <tr style=\"text-align: right;\">\n",
       "      <th>MeetingDate</th>\n",
       "      <th>MeetingID</th>\n",
       "      <th>AccumulatedRespect</th>\n",
       "      <th>AccumulatedRespectNewMember</th>\n",
       "      <th>AccumulatedRespectReturningMember</th>\n",
       "    </tr>\n",
       "  </thead>\n",
       "  <tbody>\n",
       "    <tr>\n",
       "      <td>2022-07-23</td>\n",
       "      <td>21</td>\n",
       "      <td>401</td>\n",
       "      <td>7</td>\n",
       "      <td>394</td>\n",
       "    </tr>\n",
       "    <tr>\n",
       "      <td>2022-07-16</td>\n",
       "      <td>20</td>\n",
       "      <td>346</td>\n",
       "      <td>3</td>\n",
       "      <td>343</td>\n",
       "    </tr>\n",
       "    <tr>\n",
       "      <td>2022-07-09</td>\n",
       "      <td>19</td>\n",
       "      <td>301</td>\n",
       "      <td>11</td>\n",
       "      <td>290</td>\n",
       "    </tr>\n",
       "    <tr>\n",
       "      <td>2022-07-02</td>\n",
       "      <td>18</td>\n",
       "      <td>350</td>\n",
       "      <td>0</td>\n",
       "      <td>350</td>\n",
       "    </tr>\n",
       "    <tr>\n",
       "      <td>2022-06-25</td>\n",
       "      <td>17</td>\n",
       "      <td>305</td>\n",
       "      <td>0</td>\n",
       "      <td>305</td>\n",
       "    </tr>\n",
       "    <tr>\n",
       "      <td>2022-06-18</td>\n",
       "      <td>16</td>\n",
       "      <td>364</td>\n",
       "      <td>11</td>\n",
       "      <td>353</td>\n",
       "    </tr>\n",
       "    <tr>\n",
       "      <td>2022-06-11</td>\n",
       "      <td>15</td>\n",
       "      <td>310</td>\n",
       "      <td>3</td>\n",
       "      <td>307</td>\n",
       "    </tr>\n",
       "    <tr>\n",
       "      <td>2022-06-04</td>\n",
       "      <td>14</td>\n",
       "      <td>312</td>\n",
       "      <td>12</td>\n",
       "      <td>300</td>\n",
       "    </tr>\n",
       "    <tr>\n",
       "      <td>2022-05-28</td>\n",
       "      <td>13</td>\n",
       "      <td>310</td>\n",
       "      <td>5</td>\n",
       "      <td>305</td>\n",
       "    </tr>\n",
       "    <tr>\n",
       "      <td>2022-05-21</td>\n",
       "      <td>12</td>\n",
       "      <td>310</td>\n",
       "      <td>10</td>\n",
       "      <td>300</td>\n",
       "    </tr>\n",
       "    <tr>\n",
       "      <td>2022-05-14</td>\n",
       "      <td>11</td>\n",
       "      <td>304</td>\n",
       "      <td>12</td>\n",
       "      <td>292</td>\n",
       "    </tr>\n",
       "    <tr>\n",
       "      <td>2022-05-07</td>\n",
       "      <td>10</td>\n",
       "      <td>356</td>\n",
       "      <td>42</td>\n",
       "      <td>314</td>\n",
       "    </tr>\n",
       "  </tbody>\n",
       "</table>"
      ],
      "text/plain": [
       "   MeetingDate  MeetingID  AccumulatedRespect  AccumulatedRespectNewMember  \\\n",
       "20  2022-07-23         21                 401                            7   \n",
       "19  2022-07-16         20                 346                            3   \n",
       "18  2022-07-09         19                 301                           11   \n",
       "17  2022-07-02         18                 350                            0   \n",
       "16  2022-06-25         17                 305                            0   \n",
       "15  2022-06-18         16                 364                           11   \n",
       "14  2022-06-11         15                 310                            3   \n",
       "13  2022-06-04         14                 312                           12   \n",
       "12  2022-05-28         13                 310                            5   \n",
       "11  2022-05-21         12                 310                           10   \n",
       "10  2022-05-14         11                 304                           12   \n",
       "9   2022-05-07         10                 356                           42   \n",
       "\n",
       "    AccumulatedRespectReturningMember  \n",
       "20                                394  \n",
       "19                                343  \n",
       "18                                290  \n",
       "17                                350  \n",
       "16                                305  \n",
       "15                                353  \n",
       "14                                307  \n",
       "13                                300  \n",
       "12                                305  \n",
       "11                                300  \n",
       "10                                292  \n",
       "9                                 314  "
      ]
     },
     "execution_count": 14,
     "metadata": {},
     "output_type": "execute_result"
    }
   ],
   "source": [
    "GitHubMarkdownDataFrame(dataset.df_member_respect_new_and_returning_by_meeting.iloc[::-1].head(12))"
   ]
  },
  {
   "cell_type": "markdown",
   "metadata": {},
   "source": [
    "### Plot of Accumulated New and Returning Member Respect vs Time"
   ]
  },
  {
   "cell_type": "markdown",
   "metadata": {},
   "source": [
    "Plot the accumulated member Respect of the Genesis fractal vs time."
   ]
  },
  {
   "cell_type": "code",
   "execution_count": 15,
   "metadata": {},
   "outputs": [
    {
     "data": {
      "image/png": "[encoded data removed]",
      "text/plain": [
       "<Figure size 720x432 with 1 Axes>"
      ]
     },
     "metadata": {
      "needs_background": "light"
     },
     "output_type": "display_data"
    }
   ],
   "source": [
    "plots.accumulated_member_respect_vs_time_stacked\n",
    "plt.show()"
   ]
  },
  {
   "cell_type": "markdown",
   "metadata": {},
   "source": [
    "### Total Accumulated Member Respect"
   ]
  },
  {
   "cell_type": "markdown",
   "metadata": {},
   "source": [
    "The total accumulated member Respect integrated over all members."
   ]
  },
  {
   "cell_type": "code",
   "execution_count": 16,
   "metadata": {},
   "outputs": [
    {
     "data": {
      "text/plain": [
       "6626"
      ]
     },
     "execution_count": 16,
     "metadata": {},
     "output_type": "execute_result"
    }
   ],
   "source": [
    "dataset.total_member_respect"
   ]
  },
  {
   "cell_type": "markdown",
   "metadata": {},
   "source": [
    "### Plot of Accumulated Team Respect vs Time"
   ]
  },
  {
   "cell_type": "markdown",
   "metadata": {},
   "source": [
    "Plot the accumulated team Respect of the Genesis fractal teams vs time."
   ]
  },
  {
   "cell_type": "code",
   "execution_count": 17,
   "metadata": {},
   "outputs": [
    {
     "data": {
      "image/png": "[encoded data removed]",
      "text/plain": [
       "<Figure size 720x432 with 1 Axes>"
      ]
     },
     "metadata": {
      "needs_background": "light"
     },
     "output_type": "display_data"
    }
   ],
   "source": [
    "plots.accumulated_team_respect_vs_time_stacked\n",
    "plt.show()"
   ]
  },
  {
   "cell_type": "markdown",
   "metadata": {},
   "source": [
    "### Total Accumulated Team Respect"
   ]
  },
  {
   "cell_type": "markdown",
   "metadata": {},
   "source": [
    "The total accumulated team Respect integrated over all teams."
   ]
  },
  {
   "cell_type": "code",
   "execution_count": 18,
   "metadata": {},
   "outputs": [
    {
     "data": {
      "text/plain": [
       "2679"
      ]
     },
     "execution_count": 18,
     "metadata": {},
     "output_type": "execute_result"
    }
   ],
   "source": [
    "dataset.total_team_respect"
   ]
  },
  {
   "cell_type": "markdown",
   "metadata": {
    "tags": []
   },
   "source": [
    "### DataFrame of Team Leaderboard"
   ]
  },
  {
   "cell_type": "markdown",
   "metadata": {},
   "source": [
    "The team leaderboard shows the the total accumulated team Respect for each team."
   ]
  },
  {
   "cell_type": "code",
   "execution_count": 19,
   "metadata": {},
   "outputs": [
    {
     "data": {
      "text/html": [
       "<table border=\"1\" class=\"dataframe\">\n",
       "  <thead>\n",
       "    <tr style=\"text-align: right;\">\n",
       "      <th>AccumulatedRespect</th>\n",
       "    </tr>\n",
       "  </thead>\n",
       "  <tbody>\n",
       "    <tr>\n",
       "      <td>1575</td>\n",
       "    </tr>\n",
       "    <tr>\n",
       "      <td>648</td>\n",
       "    </tr>\n",
       "    <tr>\n",
       "      <td>271</td>\n",
       "    </tr>\n",
       "    <tr>\n",
       "      <td>144</td>\n",
       "    </tr>\n",
       "    <tr>\n",
       "      <td>41</td>\n",
       "    </tr>\n",
       "  </tbody>\n",
       "</table>"
      ],
      "text/plain": [
       "                            AccumulatedRespect\n",
       "TeamName                                      \n",
       "Team fractally                            1575\n",
       "EOS Translation Foundation                 648\n",
       "Fractally in Orbit                         271\n",
       "fractally francophonie                     144\n",
       "Eden fractal                                41"
      ]
     },
     "execution_count": 19,
     "metadata": {},
     "output_type": "execute_result"
    }
   ],
   "source": [
    "GitHubMarkdownDataFrame(dataset.df_team_leader_board)"
   ]
  },
  {
   "cell_type": "markdown",
   "metadata": {},
   "source": [
    "### Plot of Team Representation"
   ]
  },
  {
   "cell_type": "markdown",
   "metadata": {},
   "source": [
    "Plot the fraction of members representing teams over time."
   ]
  },
  {
   "cell_type": "code",
   "execution_count": 20,
   "metadata": {},
   "outputs": [
    {
     "data": {
      "image/png": "[encoded data removed]",
      "text/plain": [
       "<Figure size 720x432 with 1 Axes>"
      ]
     },
     "metadata": {
      "needs_background": "light"
     },
     "output_type": "display_data"
    }
   ],
   "source": [
    "plots.team_representation_vs_time\n",
    "plt.show()"
   ]
  },
  {
   "cell_type": "markdown",
   "metadata": {},
   "source": [
    "### Average Team Representation per Meeting"
   ]
  },
  {
   "cell_type": "markdown",
   "metadata": {},
   "source": [
    "The average team representation per meeting. This is the number of members in attendance that are members of a team divided by the total number of members in attendance."
   ]
  },
  {
   "cell_type": "code",
   "execution_count": 21,
   "metadata": {},
   "outputs": [
    {
     "data": {
      "text/plain": [
       "Statistics(mean=0.36, standard_deviation=0.12)"
      ]
     },
     "execution_count": 21,
     "metadata": {},
     "output_type": "execute_result"
    }
   ],
   "source": [
    "dataset.team_representation_stats"
   ]
  },
  {
   "cell_type": "markdown",
   "metadata": {},
   "source": [
    "### DataFrame of Accumulated Level vs Attendance"
   ]
  },
  {
   "cell_type": "markdown",
   "metadata": {},
   "source": [
    "Inspect the DataFrame for the mean accumulated level based on meeting attendance."
   ]
  },
  {
   "cell_type": "code",
   "execution_count": 22,
   "metadata": {},
   "outputs": [
    {
     "data": {
      "text/html": [
       "<table border=\"1\" class=\"dataframe\">\n",
       "  <thead>\n",
       "    <tr style=\"text-align: right;\">\n",
       "      <th>AttendanceCount</th>\n",
       "      <th>Mean</th>\n",
       "      <th>StandardDeviation</th>\n",
       "    </tr>\n",
       "  </thead>\n",
       "  <tbody>\n",
       "    <tr>\n",
       "      <td>1</td>\n",
       "      <td>2.384615</td>\n",
       "      <td>1.270384</td>\n",
       "    </tr>\n",
       "    <tr>\n",
       "      <td>2</td>\n",
       "      <td>3.777778</td>\n",
       "      <td>1.628986</td>\n",
       "    </tr>\n",
       "    <tr>\n",
       "      <td>3</td>\n",
       "      <td>1.166667</td>\n",
       "      <td>0.408248</td>\n",
       "    </tr>\n",
       "    <tr>\n",
       "      <td>4</td>\n",
       "      <td>3.416667</td>\n",
       "      <td>1.378954</td>\n",
       "    </tr>\n",
       "    <tr>\n",
       "      <td>5</td>\n",
       "      <td>2.857143</td>\n",
       "      <td>1.555689</td>\n",
       "    </tr>\n",
       "    <tr>\n",
       "      <td>6</td>\n",
       "      <td>3.000000</td>\n",
       "      <td>1.533930</td>\n",
       "    </tr>\n",
       "    <tr>\n",
       "      <td>8</td>\n",
       "      <td>4.208333</td>\n",
       "      <td>1.503016</td>\n",
       "    </tr>\n",
       "    <tr>\n",
       "      <td>9</td>\n",
       "      <td>2.592593</td>\n",
       "      <td>1.308530</td>\n",
       "    </tr>\n",
       "    <tr>\n",
       "      <td>10</td>\n",
       "      <td>2.266667</td>\n",
       "      <td>0.944433</td>\n",
       "    </tr>\n",
       "    <tr>\n",
       "      <td>11</td>\n",
       "      <td>3.727273</td>\n",
       "      <td>1.586520</td>\n",
       "    </tr>\n",
       "    <tr>\n",
       "      <td>12</td>\n",
       "      <td>4.250000</td>\n",
       "      <td>1.451338</td>\n",
       "    </tr>\n",
       "    <tr>\n",
       "      <td>13</td>\n",
       "      <td>3.346154</td>\n",
       "      <td>1.440620</td>\n",
       "    </tr>\n",
       "    <tr>\n",
       "      <td>14</td>\n",
       "      <td>3.985714</td>\n",
       "      <td>1.689635</td>\n",
       "    </tr>\n",
       "    <tr>\n",
       "      <td>15</td>\n",
       "      <td>3.777778</td>\n",
       "      <td>1.730592</td>\n",
       "    </tr>\n",
       "    <tr>\n",
       "      <td>16</td>\n",
       "      <td>3.187500</td>\n",
       "      <td>1.223043</td>\n",
       "    </tr>\n",
       "    <tr>\n",
       "      <td>17</td>\n",
       "      <td>3.470588</td>\n",
       "      <td>1.374666</td>\n",
       "    </tr>\n",
       "    <tr>\n",
       "      <td>18</td>\n",
       "      <td>4.277778</td>\n",
       "      <td>1.465300</td>\n",
       "    </tr>\n",
       "    <tr>\n",
       "      <td>19</td>\n",
       "      <td>2.736842</td>\n",
       "      <td>1.521772</td>\n",
       "    </tr>\n",
       "    <tr>\n",
       "      <td>20</td>\n",
       "      <td>4.625000</td>\n",
       "      <td>1.309708</td>\n",
       "    </tr>\n",
       "    <tr>\n",
       "      <td>21</td>\n",
       "      <td>3.761905</td>\n",
       "      <td>1.589746</td>\n",
       "    </tr>\n",
       "  </tbody>\n",
       "</table>"
      ],
      "text/plain": [
       "    AttendanceCount      Mean  StandardDeviation\n",
       "0                 1  2.384615           1.270384\n",
       "1                 2  3.777778           1.628986\n",
       "2                 3  1.166667           0.408248\n",
       "3                 4  3.416667           1.378954\n",
       "4                 5  2.857143           1.555689\n",
       "5                 6  3.000000           1.533930\n",
       "6                 8  4.208333           1.503016\n",
       "7                 9  2.592593           1.308530\n",
       "8                10  2.266667           0.944433\n",
       "9                11  3.727273           1.586520\n",
       "10               12  4.250000           1.451338\n",
       "11               13  3.346154           1.440620\n",
       "12               14  3.985714           1.689635\n",
       "13               15  3.777778           1.730592\n",
       "14               16  3.187500           1.223043\n",
       "15               17  3.470588           1.374666\n",
       "16               18  4.277778           1.465300\n",
       "17               19  2.736842           1.521772\n",
       "18               20  4.625000           1.309708\n",
       "19               21  3.761905           1.589746"
      ]
     },
     "execution_count": 22,
     "metadata": {},
     "output_type": "execute_result"
    }
   ],
   "source": [
    "GitHubMarkdownDataFrame(dataset.df_member_level_by_attendance_count)"
   ]
  },
  {
   "cell_type": "markdown",
   "metadata": {},
   "source": [
    "The mean accumulated level is strongly correlated with meeting attendance."
   ]
  },
  {
   "cell_type": "code",
   "execution_count": 23,
   "metadata": {},
   "outputs": [
    {
     "data": {
      "text/html": [
       "<table border=\"1\" class=\"dataframe\">\n",
       "  <thead>\n",
       "    <tr style=\"text-align: right;\">\n",
       "      <th>AttendanceCount</th>\n",
       "      <th>Mean</th>\n",
       "    </tr>\n",
       "  </thead>\n",
       "  <tbody>\n",
       "    <tr>\n",
       "      <td>1.000000</td>\n",
       "      <td>0.490467</td>\n",
       "    </tr>\n",
       "    <tr>\n",
       "      <td>0.490467</td>\n",
       "      <td>1.000000</td>\n",
       "    </tr>\n",
       "  </tbody>\n",
       "</table>"
      ],
      "text/plain": [
       "                 AttendanceCount      Mean\n",
       "AttendanceCount         1.000000  0.490467\n",
       "Mean                    0.490467  1.000000"
      ]
     },
     "execution_count": 23,
     "metadata": {},
     "output_type": "execute_result"
    }
   ],
   "source": [
    "GitHubMarkdownDataFrame(dataset.df_member_level_by_attendance_count[['AttendanceCount', 'Mean']].corr())"
   ]
  },
  {
   "cell_type": "markdown",
   "metadata": {},
   "source": [
    "### Plot of Attendance Consistency vs Level"
   ]
  },
  {
   "cell_type": "markdown",
   "metadata": {},
   "source": [
    "Based on this strong correlation, plot the change in level vs the number of meetings attended."
   ]
  },
  {
   "cell_type": "code",
   "execution_count": 24,
   "metadata": {},
   "outputs": [
    {
     "data": {
      "image/png": "[encoded data removed]",
      "text/plain": [
       "<Figure size 720x432 with 1 Axes>"
      ]
     },
     "metadata": {
      "needs_background": "light"
     },
     "output_type": "display_data"
    }
   ],
   "source": [
    "plots.attendance_count_vs_level\n",
    "plt.show()"
   ]
  },
  {
   "cell_type": "markdown",
   "metadata": {},
   "source": [
    "As the plot shows, on average a member's level trends higher in subsequent weeks based on the number of past weekly consensus meetings they have participated in. Possible reasons for this phenomena include:\n",
    "\n",
    "* Over time members learn what their fellow members value and come into alignment with those values.\n",
    "* Over time members begin to imitate their higher level colleagues from watching how they conduct themselves.\n",
    "* There is a self-selection process going on. This is an interesting idea for further analysis."
   ]
  },
  {
   "cell_type": "markdown",
   "metadata": {},
   "source": [
    "## Getting Started for Software Engineers\n",
    "\n",
    "I use my M1 MacBook for software engineering, and the following steps reflect that architecture.\n",
    "\n",
    "### Step 1 (one time setup):\n",
    "\n",
    "Install [bazel](https://bazel.build) on your `PATH`. I do this using [bazelisk](https://github.com/bazelbuild/bazelisk). \n",
    "\n",
    "```bash\n",
    "curl -LJO https://github.com/bazelbuild/bazelisk/releases/download/v1.11.0/bazelisk-darwin-arm64\n",
    "chmod a+x bazelisk-darwin-arm64\n",
    "ln -s bazelisk-darwin-arm64 bazel\n",
    "```\n",
    "\n",
    "### Step 2 (one time setup):\n",
    "\n",
    "Install [buildifier](https://github.com/bazelbuild/buildtools/blob/master/buildifier/README.md) on your `PATH`.\n",
    "\n",
    "You need `buildifier` for linting and formatting the bazel files [WORKSPACE](WORKSPACE) and [BUILD](BUILD) if you change them. \n",
    "\n",
    "```bash\n",
    "curl -LJO https://github.com/bazelbuild/buildtools/releases/download/5.1.0/buildifier-darwin-arm64\n",
    "chmod a+x buildifier-darwin-arm64\n",
    "ln -s buildifier-darwin-arm64 buildifier\n",
    "```\n",
    "\n",
    "### Step 3 (one time setup):\n",
    "\n",
    "Install [Xcode from the App Store](https://apps.apple.com/us/app/xcode/id497799835?mt=12).\n",
    "\n",
    "\n",
    "### Step 4 (one time setup; optional):\n",
    "\n",
    "I needed to create the following symlink on my M1 MacBook.\n",
    "\n",
    "```base\n",
    "pushd /Applications/Xcode.app/Contents/Developer/Platforms/MacOSX.platform/Developer/SDKs/\n",
    "sudo ln -s MacOSX.sdk MacOSX12.1.sdk\n",
    "popd\n",
    "```\n",
    "\n",
    "This symlink was required to work around this error during `bazel test //...`.\n",
    "\n",
    "> Compiling with an SDK that doesn't seem to exist: /Applications/Xcode.app/Contents/Developer/Platforms/MacOSX.platform/Developer/SDKs/MacOSX12.1.sdk\n",
    "> Please check your Xcode installation\n",
    "\n",
    "### Step 5:\n",
    "\n",
    "Clone this repo and build all targets.\n",
    "\n",
    "```bash\n",
    "bazel build //...\n",
    "```\n",
    "\n",
    "### Step 6:\n",
    "\n",
    "Run all unit tests.\n",
    "\n",
    "```bash\n",
    "bazel test //...\n",
    "```"
   ]
  },
  {
   "cell_type": "markdown",
   "metadata": {
    "jp-MarkdownHeadingCollapsed": true,
    "tags": []
   },
   "source": [
    "## Notes for Contributors\n",
    "\n",
    "You are encouraged to collaborate and contribute to this project. Please ask questions and share your insights and discoveries in the [Modeling and Simulation](https://gofractally.com/groups/7064857/topics/7623063) topic of [gofractally.com](https://gofractally.com).\n",
    "\n",
    "Please perform the following procedures before opening a pull request for this project. These manual procedures are temporary and will eventually be incorporated into bazel targets and enforced through CI.\n",
    "\n",
    "### Python Dependencies\n",
    "\n",
    "The source of truth for this project's python dependencies is the [Pipfile](Pipfile) file. The following three files are derived from this Pipfile file and must be regenerated after changing it:\n",
    "\n",
    "1. [Pipfile.lock](Pipfile.lock)\n",
    "2. [requirements.txt](requirements.txt)\n",
    "3. [requirements-dev.txt](requirements-dev.txt)\n",
    "\n",
    "This project's bazel repository, defined in [WORKSPACE](WORKSPACE), depends on [requirements.txt](requirements.txt) to define the python dependencies for bazel targets throughout this project.\n",
    "\n",
    "The [Streamlit app](fractal_governance/streamlit/genesis_fractal.py) also depends on [requirements.txt](requirements.txt) to define its runtime python dependencies.\n",
    "\n",
    "Developer tools, like `jupyterlab` code formatters and linters, depend on [requirements-dev.txt](requirements-dev.txt) to define its runtime python dependencies.\n",
    "\n",
    "The following procedure is how I update these three derived files after changing the [Pipfile](Pipfile) file. You will need `pipenv` for this step, so if you don't have this development tool installed then you may want to follow the steps labeled **one time setup** in [Getting Started for Data Scientists](#getting-started-for-data-scientists).\n",
    "\n",
    "```\n",
    "pipenv install --dev\n",
    "pipenv lock -r > requirements.txt\n",
    "pipenv lock --dev -r > requirements-dev.txt\n",
    "```\n",
    "\n",
    "Check that the [README.ipynb](notebook/README.ipynb) notebook and [Streamlit app](fractal_governance/streamlit/genesis_fractal.py) still run by following the procedure in [Getting Started for Data Scientists](#getting-started-for-data-scientists), and that the unit tests still pass by following the procedure in [Getting Started for Software Engineers](#getting-started-for-software-engineers).\n",
    "\n",
    "### Format and Lint Python Source Code\n",
    "\n",
    "Please use the following procedure to format and lint the python source code after making any changes.\n",
    "\n",
    "```bash\n",
    "find fractal_governance test -name '*.py' -print0 | xargs -0 pipenv run black\n",
    "find fractal_governance test -name '*.py' -print0 | xargs -0 pipenv run flake8\n",
    "```\n",
    "\n",
    "### Format and Lint Bazel Source Files\n",
    "\n",
    "Please use the following procedure to format and lint the bazel source files.\n",
    "\n",
    "```bash\n",
    "find . -type f -name \"BUILD\" -or -name \"WORKSPACE\" -print0 | xargs -0 buildifier -lint fix\n",
    "```\n",
    "\n",
    "### Updating README.md\n",
    "\n",
    "The source of truth for this project's [README.md](README.md) file is the [README.ipynb](notebook/README.ipynb) notebook. The following procedure is how I update the [README.md](README.md) file after changing the [README.ipynb](notebook/README.ipynb) notebook.\n",
    "\n",
    "#### Step 1 (one time setup):\n",
    "```bash\n",
    "pipenv run nodeenv -p\n",
    "pipenv run npm install -g doctoc\n",
    "```\n",
    "\n",
    "#### Step 2:\n",
    "```bash\n",
    "rm -rf README_files\n",
    "pipenv run jupyter nbconvert --to markdown notebook/README.ipynb --output-dir .\n",
    "pipenv run doctoc README.md\n",
    "```"
   ]
  },
  {
   "cell_type": "markdown",
   "metadata": {},
   "source": [
    "## Resources\n",
    "\n",
    "Resources to learn more about Fractal Governance:\n",
    "\n",
    "- [fractally White Paper](https://fractally.com)\n",
    "- [Fractally White Paper Addendum 1](https://hive.blog/fractally/@dan/fractally-white-paper-addendum-1)\n",
    "- [More Equal Animals](https://moreequalanimals.com) by Daniel Larimer\n",
    "- [Genesis Uncertainty Observatory](https://share.streamlit.io/matt-langston/fractal_governance/main/fractal_governance/measurement_uncertainty/streamlit/genesis_fractal.py)\n",
    "- [Genesis Fractal Dashboard](https://share.streamlit.io/matt-langston/fractal_governance/main/fractal_governance/streamlit/genesis_fractal.py)\n",
    "- [A Model-Independent Method to Measure Uncertainties in Fractal Governance Consensus Algorithms](https://hive.blog/fractally/@mattlangston/a-model-independent-method-to-measure-uncertainties-in-fractal-governance-consensus-algorithms)\n",
    "- [On Simulating Fractal Governance](https://hive.blog/fractally/@mattlangston/on-simulating-fractal-governance)\n",
    "- [First Results from the Fractal Governance Experiments](https://hive.blog/fractally/@mattlangston/first-results-from-the-fractal-governance-experiments)\n",
    "- [Modeling and Simulation](https://gofractally.com/groups/7064857/topics/7623063) topic on [gofractally.com](https://gofractally.com)\n",
    "\n",
    "If you contribute new Jupyter notebooks then please place them in the [notebook](notebook) directory."
   ]
  },
  {
   "cell_type": "markdown",
   "metadata": {},
   "source": [
    "## License\n",
    "\n",
    "This project is licensed under the terms of the MIT license as defined in the [LICENSE](LICENSE) file."
   ]
  }
 ],
 "metadata": {
  "hide_input": false,
  "kernelspec": {
   "display_name": "Python 3 (ipykernel)",
   "language": "python",
   "name": "python3"
  },
  "language_info": {
   "codemirror_mode": {
    "name": "ipython",
    "version": 3
   },
   "file_extension": ".py",
   "mimetype": "text/x-python",
   "name": "python",
   "nbconvert_exporter": "python",
   "pygments_lexer": "ipython3",
   "version": "3.9.10"
  },
  "toc-showtags": true
 },
 "nbformat": 4,
 "nbformat_minor": 4
}
