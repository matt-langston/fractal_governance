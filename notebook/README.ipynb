{
 "cells": [
  {
   "cell_type": "markdown",
   "metadata": {
    "tags": []
   },
   "source": [
    "# Fractal Governance"
   ]
  },
  {
   "cell_type": "markdown",
   "metadata": {
    "jp-MarkdownHeadingCollapsed": true,
    "tags": []
   },
   "source": [
    "## Table of Contents\n",
    "<!-- START doctoc -->\n",
    "<!-- END doctoc -->"
   ]
  },
  {
   "cell_type": "markdown",
   "metadata": {
    "tags": []
   },
   "source": [
    "## Introduction\n",
    "\n",
    "[Datasets](data), [Jupyter notebooks](notebook/README.ipynb) and [Streamlit dashboards](https://share.streamlit.io/matt-langston/fractal_governance/main/fractal_governance/streamlit/genesis_fractal.py) for Fractal Governance\n",
    "\n",
    "The motivation for this repository is to advance the understanding of Fractal Governance. The [datasets](data) from our [experimental apparatus](https://gofractally.com) will be of particular interest to data scientists, researchers and educators.\n",
    "\n",
    "## What is Fractal Governance?\n",
    "\n",
    "The goal of Fractal Governance is lofty: incentivize people to collaborate in the production of public goods and services that also eliminates corruption and graft in the process.\n",
    "\n",
    "The principles of Fractal Governance are described in the book [More Equal Animals](https://moreequalanimals.com) by Daniel Larimer, and the technical specifications for how to implement Fractal Governance at scale is defined in the [fractally White Paper](https://fractally.com). This article presents an analysis of the initial results of the first group of people to govern themselves according to these principles and technical specifications.\n",
    "\n",
    "These pioneers call their group [Genesis](https://gofractally.com/groups/7064857/feed) and refer to it as a Fractal. The Genesis members meet weekly to mine the inherent value of their collaboration to produce public goods and services and return that mined value, tokenized in units called *Respect*, directly back to its members through a governance process that naturally prevents corruption and graft. This incorruptibility is the defining feature of Fractal Governance.\n",
    "\n",
    "Fractal Governance directly and consistently rewards individuals for their recent past contributions towards the creation of public goods and services that also avoids the formation of Pareto distributions due to corruption and graft found in all other known forms of governance. Gone are the days of rewarding collusion with illicit gains (such as currency) from dishonest behavior or other questionable means.\n",
    "\n",
    "Analogous to Bitcoin's *Proof of Work* consensus algorithm which rewards people for transforming stored energy, in the form of electricity, into an incorruptible public ledger of account, a collaboration of people governed in a Fractal nature also uses a *Proof of Work* consensus algorithm to reward people for transforming stored energy, in the form of human collaboration, into public goods and services.\n",
    "\n",
    "The fundamental difference between the two consensus algorithms is in how rewards are allocated. The Bitcoin model allocates rewards called BTC tokens to those who consume the most electricity most consistently. The Fractal model, on the other hand, allocates rewards called Respect tokens to those who contribute the most value most consistently, as judged by their peers.\n",
    "\n",
    "The Bitcoin consensus algorithm is prone to corruption and graft because it rewards those that obtain the most consistent source of electricity by any means whatsoever, illicit or otherwise. The Fractal Governance consensus algorithm, on the other hand, prevents corruption and graft by eliminating opportunities for collusion.\n",
    "\n",
    "The nature of how the rewards from the Bitcoin and Fractal Governance systems are recorded is similar in  that both systems use a blockchain for their public ledger of account.\n",
    "\n",
    "You can [immediately explore the Genesis Fractal dataset](https://share.streamlit.io/matt-langston/fractal_governance/main/fractal_governance/streamlit/genesis_fractal.py) before returning here to continue your exploration. The dataset for this dashboard is curated by [Gregory Wexler](https://gofractally.com/members/10362727), [Joshua Seymour](https://gofractally.com/members/10361546) and [Matt Langston](https://gofractally.com/members/10426315)."
   ]
  },
  {
   "cell_type": "markdown",
   "metadata": {
    "jp-MarkdownHeadingCollapsed": true,
    "tags": []
   },
   "source": [
    "## Getting Started for Data Scientists\n",
    "\n",
    "I use my M1 MacBook with [MacPorts](https://www.macports.org) for the steps labeled **one time setup**.\n",
    "\n",
    "### Step 1 (one time setup):\n",
    "\n",
    "Install [python 3.9](https://docs.python.org/3.9/) and [pipenv](https://pipenv.pypa.io/en/latest/). I do this using MacPorts.\n",
    "\n",
    "```bash\n",
    "sudo port install python39\n",
    "sudo port select --set python3 python39\n",
    "sudo port select --set python python39\n",
    "sudo port install pipenv\n",
    "```\n",
    "\n",
    "### Step 2 (one time setup):\n",
    "\n",
    "Use pipenv to install the python dependencies. Run this command from the top-level directory of this git repository.\n",
    "\n",
    "```bash\n",
    "pipenv install --dev\n",
    "```\n",
    "\n",
    "### Step 3 (optional):\n",
    "\n",
    "Run the Streamlit app. This will run the same dashboard as [Genesis Fractal dataset](https://share.streamlit.io/matt-langston/fractal_governance/main/fractal_governance/streamlit/genesis_fractal.py).\n",
    "\n",
    "```bash\n",
    "pipenv run streamlit run fractal_governance/streamlit/genesis_fractal.py\n",
    "open http://localhost:8501\n",
    "```\n",
    "\n",
    "### Step 4 (optional):\n",
    "\n",
    "Explore the Jupyter notebooks:\n",
    "\n",
    "```bash\n",
    "pipenv run jupyter lab\n",
    "```\n",
    "\n",
    "### Step 5:\n",
    "\n",
    "Start exploring our datasets, models and simulations. What follows is an example analysis of the Genesis fractal's dataset to inspire your own explorations."
   ]
  },
  {
   "cell_type": "markdown",
   "metadata": {
    "tags": []
   },
   "source": [
    "## Example Analysis of the Genesis Fractal"
   ]
  },
  {
   "cell_type": "markdown",
   "metadata": {},
   "source": [
    "### Setup"
   ]
  },
  {
   "cell_type": "code",
   "execution_count": 1,
   "metadata": {},
   "outputs": [],
   "source": [
    "# 3rd party dependencies\n",
    "import matplotlib.pyplot as plt\n",
    "\n",
    "# 2nd party dependencies\n",
    "import fractal_governance.dataset\n",
    "import fractal_governance.plots\n",
    "\n",
    "from fractal_governance.util import GitHubMarkdownDataFrame"
   ]
  },
  {
   "cell_type": "markdown",
   "metadata": {},
   "source": [
    "### A Dataset of Multiple pandas DataFrames"
   ]
  },
  {
   "cell_type": "markdown",
   "metadata": {},
   "source": [
    "Read the Genesis fractal's dataset into a `Dataset` object consisting of multiple convenient pandas DataFrames."
   ]
  },
  {
   "cell_type": "code",
   "execution_count": 2,
   "metadata": {},
   "outputs": [],
   "source": [
    "dataset = fractal_governance.dataset.Dataset.from_csv('../data/genesis-weekly_measurements.csv')"
   ]
  },
  {
   "cell_type": "markdown",
   "metadata": {},
   "source": [
    "List the attributes of this `Dataset` object to see what properties and methods we have to work with."
   ]
  },
  {
   "cell_type": "code",
   "execution_count": 3,
   "metadata": {},
   "outputs": [
    {
     "data": {
      "text/plain": [
       "['_get_new_member_filter_for_meeting_id',\n",
       " 'attendance_consistency_stats',\n",
       " 'attendance_stats',\n",
       " 'df',\n",
       " 'df_member_attendance_new_and_returning_by_meeting',\n",
       " 'df_member_leader_board',\n",
       " 'df_member_level_by_attendance_count',\n",
       " 'df_member_respect_new_and_returning_by_meeting',\n",
       " 'df_member_summary_stats_by_member_id',\n",
       " 'df_team_leader_board',\n",
       " 'df_team_representation_by_date',\n",
       " 'df_team_respect_by_meeting_date',\n",
       " 'from_csv',\n",
       " 'get_new_member_dataframe_for_meeting_id',\n",
       " 'get_returning_member_dataframe_for_meeting_id',\n",
       " 'last_meeting_date',\n",
       " 'team_representation_stats',\n",
       " 'total_meetings',\n",
       " 'total_member_respect',\n",
       " 'total_respect',\n",
       " 'total_team_respect',\n",
       " 'total_unique_members']"
      ]
     },
     "execution_count": 3,
     "metadata": {},
     "output_type": "execute_result"
    }
   ],
   "source": [
    "[attribute for attribute in dir(dataset) if not attribute.startswith('__')]"
   ]
  },
  {
   "cell_type": "markdown",
   "metadata": {
    "tags": []
   },
   "source": [
    "The curated raw data from the Genesis weekly consensus meetings is a pandas DataFrame accessed through the `df` property.\n",
    "\n",
    "The other properties beginning with the prefix `df_` are derived DataFrames from the raw data in the `df` DataFrame.\n",
    "\n",
    "All other properties, `total_respect` for example, are interesting values calculated from the various DataFrames.\n",
    "\n",
    "Let's have a look at the raw data `df` DataFrame from which everything else is derived."
   ]
  },
  {
   "cell_type": "code",
   "execution_count": 4,
   "metadata": {},
   "outputs": [
    {
     "data": {
      "text/html": [
       "<div>\n",
       "<table border=\"1\" class=\"dataframe\">\n",
       "  <thead>\n",
       "    <tr style=\"text-align: right;\">\n",
       "      <th></th>\n",
       "      <th>Index</th>\n",
       "      <th>MemberID</th>\n",
       "      <th>Name</th>\n",
       "      <th>MeetingID</th>\n",
       "      <th>Group</th>\n",
       "      <th>Level</th>\n",
       "      <th>TeamID</th>\n",
       "      <th>TeamName</th>\n",
       "      <th>MeetingDate</th>\n",
       "      <th>Respect</th>\n",
       "    </tr>\n",
       "  </thead>\n",
       "  <tbody>\n",
       "    <tr>\n",
       "      <th>0</th>\n",
       "      <td>1</td>\n",
       "      <td>00</td>\n",
       "      <td>Chace Eskimo</td>\n",
       "      <td>2</td>\n",
       "      <td>1</td>\n",
       "      <td>4</td>\n",
       "      <td>NaN</td>\n",
       "      <td>NaN</td>\n",
       "      <td>2022-03-05</td>\n",
       "      <td>8</td>\n",
       "    </tr>\n",
       "    <tr>\n",
       "      <th>1</th>\n",
       "      <td>2</td>\n",
       "      <td>01</td>\n",
       "      <td>Debraj Ghosh</td>\n",
       "      <td>2</td>\n",
       "      <td>2</td>\n",
       "      <td>3</td>\n",
       "      <td>NaN</td>\n",
       "      <td>NaN</td>\n",
       "      <td>2022-03-05</td>\n",
       "      <td>5</td>\n",
       "    </tr>\n",
       "    <tr>\n",
       "      <th>2</th>\n",
       "      <td>3</td>\n",
       "      <td>02</td>\n",
       "      <td>Nick Shock</td>\n",
       "      <td>2</td>\n",
       "      <td>2</td>\n",
       "      <td>2</td>\n",
       "      <td>NaN</td>\n",
       "      <td>NaN</td>\n",
       "      <td>2022-03-05</td>\n",
       "      <td>3</td>\n",
       "    </tr>\n",
       "    <tr>\n",
       "      <th>3</th>\n",
       "      <td>4</td>\n",
       "      <td>03</td>\n",
       "      <td>Jimmy Lee</td>\n",
       "      <td>2</td>\n",
       "      <td>3</td>\n",
       "      <td>2</td>\n",
       "      <td>NaN</td>\n",
       "      <td>NaN</td>\n",
       "      <td>2022-03-05</td>\n",
       "      <td>3</td>\n",
       "    </tr>\n",
       "    <tr>\n",
       "      <th>4</th>\n",
       "      <td>5</td>\n",
       "      <td>04</td>\n",
       "      <td>Abdulsalam Ridwa</td>\n",
       "      <td>2</td>\n",
       "      <td>6</td>\n",
       "      <td>1</td>\n",
       "      <td>NaN</td>\n",
       "      <td>NaN</td>\n",
       "      <td>2022-03-05</td>\n",
       "      <td>2</td>\n",
       "    </tr>\n",
       "    <tr>\n",
       "      <th>...</th>\n",
       "      <td>...</td>\n",
       "      <td>...</td>\n",
       "      <td>...</td>\n",
       "      <td>...</td>\n",
       "      <td>...</td>\n",
       "      <td>...</td>\n",
       "      <td>...</td>\n",
       "      <td>...</td>\n",
       "      <td>...</td>\n",
       "      <td>...</td>\n",
       "    </tr>\n",
       "    <tr>\n",
       "      <th>573</th>\n",
       "      <td>574</td>\n",
       "      <td>wildwex</td>\n",
       "      <td>Gregory Wexler</td>\n",
       "      <td>17</td>\n",
       "      <td>6</td>\n",
       "      <td>5</td>\n",
       "      <td>1.0</td>\n",
       "      <td>Team fractally</td>\n",
       "      <td>2022-06-25</td>\n",
       "      <td>13</td>\n",
       "    </tr>\n",
       "    <tr>\n",
       "      <th>574</th>\n",
       "      <td>540</td>\n",
       "      <td>willspatrick</td>\n",
       "      <td>NaN</td>\n",
       "      <td>11</td>\n",
       "      <td>6</td>\n",
       "      <td>1</td>\n",
       "      <td>NaN</td>\n",
       "      <td>NaN</td>\n",
       "      <td>2022-05-14</td>\n",
       "      <td>2</td>\n",
       "    </tr>\n",
       "    <tr>\n",
       "      <th>575</th>\n",
       "      <td>541</td>\n",
       "      <td>zeos</td>\n",
       "      <td>Matthias</td>\n",
       "      <td>16</td>\n",
       "      <td>3</td>\n",
       "      <td>1</td>\n",
       "      <td>NaN</td>\n",
       "      <td>NaN</td>\n",
       "      <td>2022-06-18</td>\n",
       "      <td>2</td>\n",
       "    </tr>\n",
       "    <tr>\n",
       "      <th>576</th>\n",
       "      <td>552</td>\n",
       "      <td>zeos</td>\n",
       "      <td>Matthias</td>\n",
       "      <td>17</td>\n",
       "      <td>2</td>\n",
       "      <td>3</td>\n",
       "      <td>NaN</td>\n",
       "      <td>NaN</td>\n",
       "      <td>2022-06-25</td>\n",
       "      <td>5</td>\n",
       "    </tr>\n",
       "    <tr>\n",
       "      <th>577</th>\n",
       "      <td>542</td>\n",
       "      <td>zhenek</td>\n",
       "      <td>Евгений Чирочкин</td>\n",
       "      <td>4</td>\n",
       "      <td>4</td>\n",
       "      <td>3</td>\n",
       "      <td>NaN</td>\n",
       "      <td>NaN</td>\n",
       "      <td>2022-03-19</td>\n",
       "      <td>5</td>\n",
       "    </tr>\n",
       "  </tbody>\n",
       "</table>\n",
       "<p>578 rows × 10 columns</p>\n",
       "</div>"
      ],
      "text/plain": [
       "     Index      MemberID              Name  MeetingID  Group  Level  TeamID  \\\n",
       "0        1            00      Chace Eskimo          2      1      4     NaN   \n",
       "1        2            01      Debraj Ghosh          2      2      3     NaN   \n",
       "2        3            02        Nick Shock          2      2      2     NaN   \n",
       "3        4            03         Jimmy Lee          2      3      2     NaN   \n",
       "4        5            04  Abdulsalam Ridwa          2      6      1     NaN   \n",
       "..     ...           ...               ...        ...    ...    ...     ...   \n",
       "573    574       wildwex    Gregory Wexler         17      6      5     1.0   \n",
       "574    540  willspatrick               NaN         11      6      1     NaN   \n",
       "575    541          zeos          Matthias         16      3      1     NaN   \n",
       "576    552          zeos          Matthias         17      2      3     NaN   \n",
       "577    542        zhenek  Евгений Чирочкин          4      4      3     NaN   \n",
       "\n",
       "           TeamName MeetingDate  Respect  \n",
       "0               NaN  2022-03-05        8  \n",
       "1               NaN  2022-03-05        5  \n",
       "2               NaN  2022-03-05        3  \n",
       "3               NaN  2022-03-05        3  \n",
       "4               NaN  2022-03-05        2  \n",
       "..              ...         ...      ...  \n",
       "573  Team fractally  2022-06-25       13  \n",
       "574             NaN  2022-05-14        2  \n",
       "575             NaN  2022-06-18        2  \n",
       "576             NaN  2022-06-25        5  \n",
       "577             NaN  2022-03-19        5  \n",
       "\n",
       "[578 rows x 10 columns]"
      ]
     },
     "execution_count": 4,
     "metadata": {},
     "output_type": "execute_result"
    }
   ],
   "source": [
    "GitHubMarkdownDataFrame(dataset.df)"
   ]
  },
  {
   "cell_type": "code",
   "execution_count": 5,
   "metadata": {},
   "outputs": [
    {
     "data": {
      "text/plain": [
       "17"
      ]
     },
     "execution_count": 5,
     "metadata": {},
     "output_type": "execute_result"
    }
   ],
   "source": [
    "dataset.total_meetings"
   ]
  },
  {
   "cell_type": "code",
   "execution_count": 6,
   "metadata": {},
   "outputs": [
    {
     "data": {
      "text/plain": [
       "112"
      ]
     },
     "execution_count": 6,
     "metadata": {},
     "output_type": "execute_result"
    }
   ],
   "source": [
    "dataset.total_unique_members"
   ]
  },
  {
   "cell_type": "markdown",
   "metadata": {
    "tags": []
   },
   "source": [
    "### DataFrame of Member Leaderboard"
   ]
  },
  {
   "cell_type": "markdown",
   "metadata": {},
   "source": [
    "Inspect the first few rows of the member leaderboard DataFrame based on accumulated level."
   ]
  },
  {
   "cell_type": "code",
   "execution_count": 7,
   "metadata": {
    "tags": []
   },
   "outputs": [
    {
     "data": {
      "text/html": [
       "<div>\n",
       "<table border=\"1\" class=\"dataframe\">\n",
       "  <thead>\n",
       "    <tr style=\"text-align: right;\">\n",
       "      <th></th>\n",
       "      <th>MemberID</th>\n",
       "      <th>Name</th>\n",
       "      <th>AccumulatedLevel</th>\n",
       "      <th>AccumulatedRespect</th>\n",
       "      <th>AttendanceCount</th>\n",
       "    </tr>\n",
       "  </thead>\n",
       "  <tbody>\n",
       "    <tr>\n",
       "      <th>1</th>\n",
       "      <td>dan</td>\n",
       "      <td>Daniel Larimer</td>\n",
       "      <td>90</td>\n",
       "      <td>302</td>\n",
       "      <td>16</td>\n",
       "    </tr>\n",
       "    <tr>\n",
       "      <th>2</th>\n",
       "      <td>dansingjoy</td>\n",
       "      <td>Dan Singjoy</td>\n",
       "      <td>86</td>\n",
       "      <td>252</td>\n",
       "      <td>17</td>\n",
       "    </tr>\n",
       "    <tr>\n",
       "      <th>3</th>\n",
       "      <td>wildwex</td>\n",
       "      <td>Gregory Wexler</td>\n",
       "      <td>83</td>\n",
       "      <td>251</td>\n",
       "      <td>16</td>\n",
       "    </tr>\n",
       "    <tr>\n",
       "      <th>4</th>\n",
       "      <td>jseymour</td>\n",
       "      <td>Joshua Seymour</td>\n",
       "      <td>76</td>\n",
       "      <td>205</td>\n",
       "      <td>17</td>\n",
       "    </tr>\n",
       "    <tr>\n",
       "      <th>5</th>\n",
       "      <td>hachtu</td>\n",
       "      <td>Mark Scheer</td>\n",
       "      <td>70</td>\n",
       "      <td>202</td>\n",
       "      <td>14</td>\n",
       "    </tr>\n",
       "    <tr>\n",
       "      <th>6</th>\n",
       "      <td>novacryptollc</td>\n",
       "      <td>Patrick Bernard Schmid</td>\n",
       "      <td>64</td>\n",
       "      <td>158</td>\n",
       "      <td>15</td>\n",
       "    </tr>\n",
       "    <tr>\n",
       "      <th>7</th>\n",
       "      <td>pnc</td>\n",
       "      <td>Pascal Ngu Cho</td>\n",
       "      <td>63</td>\n",
       "      <td>136</td>\n",
       "      <td>16</td>\n",
       "    </tr>\n",
       "    <tr>\n",
       "      <th>8</th>\n",
       "      <td>dphillippi</td>\n",
       "      <td>Duane Phillippi</td>\n",
       "      <td>62</td>\n",
       "      <td>148</td>\n",
       "      <td>16</td>\n",
       "    </tr>\n",
       "    <tr>\n",
       "      <th>9</th>\n",
       "      <td>mattlangston</td>\n",
       "      <td>Matt Langston</td>\n",
       "      <td>62</td>\n",
       "      <td>154</td>\n",
       "      <td>15</td>\n",
       "    </tr>\n",
       "    <tr>\n",
       "      <th>10</th>\n",
       "      <td>lionflash</td>\n",
       "      <td>Felix Ruiz</td>\n",
       "      <td>57</td>\n",
       "      <td>125</td>\n",
       "      <td>16</td>\n",
       "    </tr>\n",
       "  </tbody>\n",
       "</table>\n",
       "</div>"
      ],
      "text/plain": [
       "         MemberID                    Name  AccumulatedLevel  \\\n",
       "1             dan          Daniel Larimer                90   \n",
       "2      dansingjoy             Dan Singjoy                86   \n",
       "3         wildwex          Gregory Wexler                83   \n",
       "4        jseymour          Joshua Seymour                76   \n",
       "5          hachtu             Mark Scheer                70   \n",
       "6   novacryptollc  Patrick Bernard Schmid                64   \n",
       "7             pnc          Pascal Ngu Cho                63   \n",
       "8      dphillippi         Duane Phillippi                62   \n",
       "9    mattlangston           Matt Langston                62   \n",
       "10      lionflash              Felix Ruiz                57   \n",
       "\n",
       "    AccumulatedRespect  AttendanceCount  \n",
       "1                  302               16  \n",
       "2                  252               17  \n",
       "3                  251               16  \n",
       "4                  205               17  \n",
       "5                  202               14  \n",
       "6                  158               15  \n",
       "7                  136               16  \n",
       "8                  148               16  \n",
       "9                  154               15  \n",
       "10                 125               16  "
      ]
     },
     "execution_count": 7,
     "metadata": {},
     "output_type": "execute_result"
    }
   ],
   "source": [
    "GitHubMarkdownDataFrame(dataset.df_member_leader_board.head(10))"
   ]
  },
  {
   "cell_type": "markdown",
   "metadata": {},
   "source": [
    "### A Plots Object of Multiple Visualizations"
   ]
  },
  {
   "cell_type": "markdown",
   "metadata": {},
   "source": [
    "Create a `Plots` object that contains interesting visualizations used throughput the remainder of our example analysis."
   ]
  },
  {
   "cell_type": "code",
   "execution_count": 8,
   "metadata": {},
   "outputs": [],
   "source": [
    "plots = fractal_governance.plots.Plots.from_dataset(dataset)"
   ]
  },
  {
   "cell_type": "markdown",
   "metadata": {},
   "source": [
    "List the attributes of this `Plots` object to see what properties and methods we have to work with."
   ]
  },
  {
   "cell_type": "code",
   "execution_count": 9,
   "metadata": {},
   "outputs": [
    {
     "data": {
      "text/plain": [
       "['accumulated_member_respect_vs_time',\n",
       " 'accumulated_member_respect_vs_time_stacked',\n",
       " 'accumulated_team_respect_vs_time',\n",
       " 'accumulated_team_respect_vs_time_stacked',\n",
       " 'attendance_consistency_histogram',\n",
       " 'attendance_count_vs_level',\n",
       " 'attendance_vs_time',\n",
       " 'attendance_vs_time_stacked',\n",
       " 'dataset',\n",
       " 'from_csv',\n",
       " 'from_dataset',\n",
       " 'team_representation_vs_time']"
      ]
     },
     "execution_count": 9,
     "metadata": {},
     "output_type": "execute_result"
    }
   ],
   "source": [
    "[attribute for attribute in dir(plots) if not attribute.startswith('__')]"
   ]
  },
  {
   "cell_type": "markdown",
   "metadata": {},
   "source": [
    "### Plot of Attendance vs Time"
   ]
  },
  {
   "cell_type": "markdown",
   "metadata": {},
   "source": [
    "Plot the attendance vs time for each weekly consensus meeting.\n",
    "\n",
    "The plot demonstrates that a relatively steady state has been reached where a core group of dedicated members is mixed with a steady stream of new participants as interest in Fractal Governance grows."
   ]
  },
  {
   "cell_type": "code",
   "execution_count": 10,
   "metadata": {},
   "outputs": [
    {
     "data": {
      "image/png": "[encoded data removed]",
      "text/plain": [
       "<Figure size 720x432 with 1 Axes>"
      ]
     },
     "metadata": {
      "needs_background": "light"
     },
     "output_type": "display_data"
    }
   ],
   "source": [
    "plots.attendance_vs_time_stacked\n",
    "plt.show()"
   ]
  },
  {
   "cell_type": "markdown",
   "metadata": {},
   "source": [
    "### DataFrame of New and Returning Member Attendance vs Time"
   ]
  },
  {
   "cell_type": "markdown",
   "metadata": {},
   "source": [
    "Inspect the DataFrame of the attendance counts of new members vs returning members for each weekly consensus meeting."
   ]
  },
  {
   "cell_type": "code",
   "execution_count": 11,
   "metadata": {},
   "outputs": [
    {
     "data": {
      "text/html": [
       "<div>\n",
       "<table border=\"1\" class=\"dataframe\">\n",
       "  <thead>\n",
       "    <tr style=\"text-align: right;\">\n",
       "      <th></th>\n",
       "      <th>MeetingDate</th>\n",
       "      <th>MeetingID</th>\n",
       "      <th>NewMemberCount</th>\n",
       "      <th>ReturningMemberCount</th>\n",
       "    </tr>\n",
       "  </thead>\n",
       "  <tbody>\n",
       "    <tr>\n",
       "      <th>0</th>\n",
       "      <td>2022-02-26</td>\n",
       "      <td>1</td>\n",
       "      <td>10</td>\n",
       "      <td>0</td>\n",
       "    </tr>\n",
       "    <tr>\n",
       "      <th>1</th>\n",
       "      <td>2022-03-05</td>\n",
       "      <td>2</td>\n",
       "      <td>37</td>\n",
       "      <td>9</td>\n",
       "    </tr>\n",
       "    <tr>\n",
       "      <th>2</th>\n",
       "      <td>2022-03-12</td>\n",
       "      <td>3</td>\n",
       "      <td>12</td>\n",
       "      <td>26</td>\n",
       "    </tr>\n",
       "    <tr>\n",
       "      <th>3</th>\n",
       "      <td>2022-03-19</td>\n",
       "      <td>4</td>\n",
       "      <td>6</td>\n",
       "      <td>27</td>\n",
       "    </tr>\n",
       "    <tr>\n",
       "      <th>4</th>\n",
       "      <td>2022-03-26</td>\n",
       "      <td>5</td>\n",
       "      <td>8</td>\n",
       "      <td>25</td>\n",
       "    </tr>\n",
       "    <tr>\n",
       "      <th>5</th>\n",
       "      <td>2022-04-02</td>\n",
       "      <td>6</td>\n",
       "      <td>9</td>\n",
       "      <td>30</td>\n",
       "    </tr>\n",
       "    <tr>\n",
       "      <th>6</th>\n",
       "      <td>2022-04-09</td>\n",
       "      <td>7</td>\n",
       "      <td>4</td>\n",
       "      <td>29</td>\n",
       "    </tr>\n",
       "    <tr>\n",
       "      <th>7</th>\n",
       "      <td>2022-04-23</td>\n",
       "      <td>8</td>\n",
       "      <td>0</td>\n",
       "      <td>28</td>\n",
       "    </tr>\n",
       "    <tr>\n",
       "      <th>8</th>\n",
       "      <td>2022-04-30</td>\n",
       "      <td>9</td>\n",
       "      <td>1</td>\n",
       "      <td>28</td>\n",
       "    </tr>\n",
       "    <tr>\n",
       "      <th>9</th>\n",
       "      <td>2022-05-07</td>\n",
       "      <td>10</td>\n",
       "      <td>5</td>\n",
       "      <td>33</td>\n",
       "    </tr>\n",
       "    <tr>\n",
       "      <th>10</th>\n",
       "      <td>2022-05-14</td>\n",
       "      <td>11</td>\n",
       "      <td>4</td>\n",
       "      <td>28</td>\n",
       "    </tr>\n",
       "    <tr>\n",
       "      <th>11</th>\n",
       "      <td>2022-05-21</td>\n",
       "      <td>12</td>\n",
       "      <td>3</td>\n",
       "      <td>32</td>\n",
       "    </tr>\n",
       "    <tr>\n",
       "      <th>12</th>\n",
       "      <td>2022-05-28</td>\n",
       "      <td>13</td>\n",
       "      <td>2</td>\n",
       "      <td>33</td>\n",
       "    </tr>\n",
       "    <tr>\n",
       "      <th>13</th>\n",
       "      <td>2022-06-04</td>\n",
       "      <td>14</td>\n",
       "      <td>4</td>\n",
       "      <td>32</td>\n",
       "    </tr>\n",
       "    <tr>\n",
       "      <th>14</th>\n",
       "      <td>2022-06-11</td>\n",
       "      <td>15</td>\n",
       "      <td>1</td>\n",
       "      <td>34</td>\n",
       "    </tr>\n",
       "    <tr>\n",
       "      <th>15</th>\n",
       "      <td>2022-06-18</td>\n",
       "      <td>16</td>\n",
       "      <td>5</td>\n",
       "      <td>37</td>\n",
       "    </tr>\n",
       "    <tr>\n",
       "      <th>16</th>\n",
       "      <td>2022-06-25</td>\n",
       "      <td>17</td>\n",
       "      <td>1</td>\n",
       "      <td>35</td>\n",
       "    </tr>\n",
       "  </tbody>\n",
       "</table>\n",
       "</div>"
      ],
      "text/plain": [
       "   MeetingDate  MeetingID  NewMemberCount  ReturningMemberCount\n",
       "0   2022-02-26          1              10                     0\n",
       "1   2022-03-05          2              37                     9\n",
       "2   2022-03-12          3              12                    26\n",
       "3   2022-03-19          4               6                    27\n",
       "4   2022-03-26          5               8                    25\n",
       "5   2022-04-02          6               9                    30\n",
       "6   2022-04-09          7               4                    29\n",
       "7   2022-04-23          8               0                    28\n",
       "8   2022-04-30          9               1                    28\n",
       "9   2022-05-07         10               5                    33\n",
       "10  2022-05-14         11               4                    28\n",
       "11  2022-05-21         12               3                    32\n",
       "12  2022-05-28         13               2                    33\n",
       "13  2022-06-04         14               4                    32\n",
       "14  2022-06-11         15               1                    34\n",
       "15  2022-06-18         16               5                    37\n",
       "16  2022-06-25         17               1                    35"
      ]
     },
     "execution_count": 11,
     "metadata": {},
     "output_type": "execute_result"
    }
   ],
   "source": [
    "GitHubMarkdownDataFrame(dataset.df_member_attendance_new_and_returning_by_meeting)"
   ]
  },
  {
   "cell_type": "markdown",
   "metadata": {},
   "source": [
    "### Average Attendees per Meeting"
   ]
  },
  {
   "cell_type": "markdown",
   "metadata": {},
   "source": [
    "The average number of attendees per meeting."
   ]
  },
  {
   "cell_type": "code",
   "execution_count": 12,
   "metadata": {
    "tags": []
   },
   "outputs": [
    {
     "data": {
      "text/plain": [
       "Statistics(mean=34.00, standard_deviation=7.58)"
      ]
     },
     "execution_count": 12,
     "metadata": {},
     "output_type": "execute_result"
    }
   ],
   "source": [
    "dataset.attendance_stats"
   ]
  },
  {
   "cell_type": "markdown",
   "metadata": {},
   "source": [
    "### Plot of Consistency of Attendance"
   ]
  },
  {
   "cell_type": "markdown",
   "metadata": {},
   "source": [
    "Plot the consistency of attendance for the weekly consensus meetings. This is the total number of meetings attended by a unique member. The first bin counts the number of people who have only attended one weekly consensus meeting."
   ]
  },
  {
   "cell_type": "code",
   "execution_count": 13,
   "metadata": {},
   "outputs": [
    {
     "data": {
      "image/png": "[encoded data removed]",
      "text/plain": [
       "<Figure size 720x432 with 1 Axes>"
      ]
     },
     "metadata": {
      "needs_background": "light"
     },
     "output_type": "display_data"
    }
   ],
   "source": [
    "plots.attendance_consistency_histogram\n",
    "plt.show()"
   ]
  },
  {
   "cell_type": "markdown",
   "metadata": {},
   "source": [
    "### Average Consistency of Attendance"
   ]
  },
  {
   "cell_type": "markdown",
   "metadata": {},
   "source": [
    "The average number of meetings attended by a unique member."
   ]
  },
  {
   "cell_type": "code",
   "execution_count": 14,
   "metadata": {},
   "outputs": [
    {
     "data": {
      "text/plain": [
       "Statistics(mean=5.16, standard_deviation=5.23)"
      ]
     },
     "execution_count": 14,
     "metadata": {},
     "output_type": "execute_result"
    }
   ],
   "source": [
    "dataset.attendance_consistency_stats"
   ]
  },
  {
   "cell_type": "markdown",
   "metadata": {},
   "source": [
    "### DataFrame of New and Returning Member Respect Mined (or Earned) vs Time"
   ]
  },
  {
   "cell_type": "markdown",
   "metadata": {},
   "source": [
    "Inspect the DataFrame for the total amount of member Respect mined (or earned) for each weekly consensus meeting."
   ]
  },
  {
   "cell_type": "code",
   "execution_count": 15,
   "metadata": {},
   "outputs": [
    {
     "data": {
      "text/html": [
       "<div>\n",
       "<table border=\"1\" class=\"dataframe\">\n",
       "  <thead>\n",
       "    <tr style=\"text-align: right;\">\n",
       "      <th></th>\n",
       "      <th>MeetingDate</th>\n",
       "      <th>MeetingID</th>\n",
       "      <th>AccumulatedRespect</th>\n",
       "      <th>AccumulatedRespectNewMember</th>\n",
       "      <th>AccumulatedRespectReturningMember</th>\n",
       "    </tr>\n",
       "  </thead>\n",
       "  <tbody>\n",
       "    <tr>\n",
       "      <th>0</th>\n",
       "      <td>2022-02-26</td>\n",
       "      <td>1</td>\n",
       "      <td>99</td>\n",
       "      <td>99</td>\n",
       "      <td>0</td>\n",
       "    </tr>\n",
       "    <tr>\n",
       "      <th>1</th>\n",
       "      <td>2022-03-05</td>\n",
       "      <td>2</td>\n",
       "      <td>412</td>\n",
       "      <td>296</td>\n",
       "      <td>116</td>\n",
       "    </tr>\n",
       "    <tr>\n",
       "      <th>2</th>\n",
       "      <td>2022-03-12</td>\n",
       "      <td>3</td>\n",
       "      <td>356</td>\n",
       "      <td>76</td>\n",
       "      <td>280</td>\n",
       "    </tr>\n",
       "    <tr>\n",
       "      <th>3</th>\n",
       "      <td>2022-03-19</td>\n",
       "      <td>4</td>\n",
       "      <td>306</td>\n",
       "      <td>49</td>\n",
       "      <td>257</td>\n",
       "    </tr>\n",
       "    <tr>\n",
       "      <th>4</th>\n",
       "      <td>2022-03-26</td>\n",
       "      <td>5</td>\n",
       "      <td>306</td>\n",
       "      <td>66</td>\n",
       "      <td>240</td>\n",
       "    </tr>\n",
       "    <tr>\n",
       "      <th>5</th>\n",
       "      <td>2022-04-02</td>\n",
       "      <td>6</td>\n",
       "      <td>358</td>\n",
       "      <td>44</td>\n",
       "      <td>314</td>\n",
       "    </tr>\n",
       "    <tr>\n",
       "      <th>6</th>\n",
       "      <td>2022-04-09</td>\n",
       "      <td>7</td>\n",
       "      <td>306</td>\n",
       "      <td>14</td>\n",
       "      <td>292</td>\n",
       "    </tr>\n",
       "    <tr>\n",
       "      <th>7</th>\n",
       "      <td>2022-04-23</td>\n",
       "      <td>8</td>\n",
       "      <td>256</td>\n",
       "      <td>0</td>\n",
       "      <td>256</td>\n",
       "    </tr>\n",
       "    <tr>\n",
       "      <th>8</th>\n",
       "      <td>2022-04-30</td>\n",
       "      <td>9</td>\n",
       "      <td>258</td>\n",
       "      <td>2</td>\n",
       "      <td>256</td>\n",
       "    </tr>\n",
       "    <tr>\n",
       "      <th>9</th>\n",
       "      <td>2022-05-07</td>\n",
       "      <td>10</td>\n",
       "      <td>356</td>\n",
       "      <td>45</td>\n",
       "      <td>311</td>\n",
       "    </tr>\n",
       "    <tr>\n",
       "      <th>10</th>\n",
       "      <td>2022-05-14</td>\n",
       "      <td>11</td>\n",
       "      <td>304</td>\n",
       "      <td>12</td>\n",
       "      <td>292</td>\n",
       "    </tr>\n",
       "    <tr>\n",
       "      <th>11</th>\n",
       "      <td>2022-05-21</td>\n",
       "      <td>12</td>\n",
       "      <td>310</td>\n",
       "      <td>10</td>\n",
       "      <td>300</td>\n",
       "    </tr>\n",
       "    <tr>\n",
       "      <th>12</th>\n",
       "      <td>2022-05-28</td>\n",
       "      <td>13</td>\n",
       "      <td>310</td>\n",
       "      <td>5</td>\n",
       "      <td>305</td>\n",
       "    </tr>\n",
       "    <tr>\n",
       "      <th>13</th>\n",
       "      <td>2022-06-04</td>\n",
       "      <td>14</td>\n",
       "      <td>312</td>\n",
       "      <td>12</td>\n",
       "      <td>300</td>\n",
       "    </tr>\n",
       "    <tr>\n",
       "      <th>14</th>\n",
       "      <td>2022-06-11</td>\n",
       "      <td>15</td>\n",
       "      <td>310</td>\n",
       "      <td>3</td>\n",
       "      <td>307</td>\n",
       "    </tr>\n",
       "    <tr>\n",
       "      <th>15</th>\n",
       "      <td>2022-06-18</td>\n",
       "      <td>16</td>\n",
       "      <td>364</td>\n",
       "      <td>11</td>\n",
       "      <td>353</td>\n",
       "    </tr>\n",
       "    <tr>\n",
       "      <th>16</th>\n",
       "      <td>2022-06-25</td>\n",
       "      <td>17</td>\n",
       "      <td>312</td>\n",
       "      <td>2</td>\n",
       "      <td>310</td>\n",
       "    </tr>\n",
       "  </tbody>\n",
       "</table>\n",
       "</div>"
      ],
      "text/plain": [
       "   MeetingDate  MeetingID  AccumulatedRespect  AccumulatedRespectNewMember  \\\n",
       "0   2022-02-26          1                  99                           99   \n",
       "1   2022-03-05          2                 412                          296   \n",
       "2   2022-03-12          3                 356                           76   \n",
       "3   2022-03-19          4                 306                           49   \n",
       "4   2022-03-26          5                 306                           66   \n",
       "5   2022-04-02          6                 358                           44   \n",
       "6   2022-04-09          7                 306                           14   \n",
       "7   2022-04-23          8                 256                            0   \n",
       "8   2022-04-30          9                 258                            2   \n",
       "9   2022-05-07         10                 356                           45   \n",
       "10  2022-05-14         11                 304                           12   \n",
       "11  2022-05-21         12                 310                           10   \n",
       "12  2022-05-28         13                 310                            5   \n",
       "13  2022-06-04         14                 312                           12   \n",
       "14  2022-06-11         15                 310                            3   \n",
       "15  2022-06-18         16                 364                           11   \n",
       "16  2022-06-25         17                 312                            2   \n",
       "\n",
       "    AccumulatedRespectReturningMember  \n",
       "0                                   0  \n",
       "1                                 116  \n",
       "2                                 280  \n",
       "3                                 257  \n",
       "4                                 240  \n",
       "5                                 314  \n",
       "6                                 292  \n",
       "7                                 256  \n",
       "8                                 256  \n",
       "9                                 311  \n",
       "10                                292  \n",
       "11                                300  \n",
       "12                                305  \n",
       "13                                300  \n",
       "14                                307  \n",
       "15                                353  \n",
       "16                                310  "
      ]
     },
     "execution_count": 15,
     "metadata": {},
     "output_type": "execute_result"
    }
   ],
   "source": [
    "GitHubMarkdownDataFrame(dataset.df_member_respect_new_and_returning_by_meeting)"
   ]
  },
  {
   "cell_type": "markdown",
   "metadata": {},
   "source": [
    "### Plot of Accumulated New and Returning Member Respect vs Time"
   ]
  },
  {
   "cell_type": "markdown",
   "metadata": {},
   "source": [
    "Plot the accumulated member Respect of the Genesis fractal vs time."
   ]
  },
  {
   "cell_type": "code",
   "execution_count": 16,
   "metadata": {},
   "outputs": [
    {
     "data": {
      "image/png": "[encoded data removed]",
      "text/plain": [
       "<Figure size 720x432 with 1 Axes>"
      ]
     },
     "metadata": {
      "needs_background": "light"
     },
     "output_type": "display_data"
    }
   ],
   "source": [
    "plots.accumulated_member_respect_vs_time_stacked\n",
    "plt.show()"
   ]
  },
  {
   "cell_type": "markdown",
   "metadata": {},
   "source": [
    "### Total Accumulated Member Respect"
   ]
  },
  {
   "cell_type": "markdown",
   "metadata": {},
   "source": [
    "The total accumulated member Respect integrated over all members."
   ]
  },
  {
   "cell_type": "code",
   "execution_count": 17,
   "metadata": {},
   "outputs": [
    {
     "data": {
      "text/plain": [
       "5235"
      ]
     },
     "execution_count": 17,
     "metadata": {},
     "output_type": "execute_result"
    }
   ],
   "source": [
    "dataset.total_member_respect"
   ]
  },
  {
   "cell_type": "markdown",
   "metadata": {
    "tags": []
   },
   "source": [
    "### DataFrame of Team Respect Mined (or Earned) vs Time"
   ]
  },
  {
   "cell_type": "markdown",
   "metadata": {},
   "source": [
    "Inspect the DataFrame for the total amount of team Respect mined (or earned) for each weekly consensus meeting."
   ]
  },
  {
   "cell_type": "code",
   "execution_count": 18,
   "metadata": {},
   "outputs": [
    {
     "data": {
      "text/html": [
       "<div>\n",
       "<table border=\"1\" class=\"dataframe\">\n",
       "  <thead>\n",
       "    <tr style=\"text-align: right;\">\n",
       "      <th></th>\n",
       "      <th>TeamName</th>\n",
       "      <th>MeetingDate</th>\n",
       "      <th>AccumulatedRespect</th>\n",
       "    </tr>\n",
       "  </thead>\n",
       "  <tbody>\n",
       "    <tr>\n",
       "      <th>0</th>\n",
       "      <td>EOS Translation Foundation</td>\n",
       "      <td>2022-04-23</td>\n",
       "      <td>34</td>\n",
       "    </tr>\n",
       "    <tr>\n",
       "      <th>1</th>\n",
       "      <td>EOS Translation Foundation</td>\n",
       "      <td>2022-04-30</td>\n",
       "      <td>25</td>\n",
       "    </tr>\n",
       "    <tr>\n",
       "      <th>2</th>\n",
       "      <td>EOS Translation Foundation</td>\n",
       "      <td>2022-05-07</td>\n",
       "      <td>26</td>\n",
       "    </tr>\n",
       "    <tr>\n",
       "      <th>3</th>\n",
       "      <td>EOS Translation Foundation</td>\n",
       "      <td>2022-05-14</td>\n",
       "      <td>31</td>\n",
       "    </tr>\n",
       "    <tr>\n",
       "      <th>4</th>\n",
       "      <td>EOS Translation Foundation</td>\n",
       "      <td>2022-05-21</td>\n",
       "      <td>42</td>\n",
       "    </tr>\n",
       "    <tr>\n",
       "      <th>5</th>\n",
       "      <td>EOS Translation Foundation</td>\n",
       "      <td>2022-05-28</td>\n",
       "      <td>28</td>\n",
       "    </tr>\n",
       "    <tr>\n",
       "      <th>6</th>\n",
       "      <td>EOS Translation Foundation</td>\n",
       "      <td>2022-06-04</td>\n",
       "      <td>34</td>\n",
       "    </tr>\n",
       "    <tr>\n",
       "      <th>7</th>\n",
       "      <td>EOS Translation Foundation</td>\n",
       "      <td>2022-06-11</td>\n",
       "      <td>65</td>\n",
       "    </tr>\n",
       "    <tr>\n",
       "      <th>8</th>\n",
       "      <td>EOS Translation Foundation</td>\n",
       "      <td>2022-06-18</td>\n",
       "      <td>84</td>\n",
       "    </tr>\n",
       "    <tr>\n",
       "      <th>9</th>\n",
       "      <td>EOS Translation Foundation</td>\n",
       "      <td>2022-06-25</td>\n",
       "      <td>63</td>\n",
       "    </tr>\n",
       "    <tr>\n",
       "      <th>10</th>\n",
       "      <td>Fractally in Orbit</td>\n",
       "      <td>2022-05-14</td>\n",
       "      <td>29</td>\n",
       "    </tr>\n",
       "    <tr>\n",
       "      <th>11</th>\n",
       "      <td>Fractally in Orbit</td>\n",
       "      <td>2022-05-21</td>\n",
       "      <td>16</td>\n",
       "    </tr>\n",
       "    <tr>\n",
       "      <th>12</th>\n",
       "      <td>Fractally in Orbit</td>\n",
       "      <td>2022-05-28</td>\n",
       "      <td>21</td>\n",
       "    </tr>\n",
       "    <tr>\n",
       "      <th>13</th>\n",
       "      <td>Fractally in Orbit</td>\n",
       "      <td>2022-06-04</td>\n",
       "      <td>21</td>\n",
       "    </tr>\n",
       "    <tr>\n",
       "      <th>14</th>\n",
       "      <td>Fractally in Orbit</td>\n",
       "      <td>2022-06-11</td>\n",
       "      <td>15</td>\n",
       "    </tr>\n",
       "    <tr>\n",
       "      <th>15</th>\n",
       "      <td>Fractally in Orbit</td>\n",
       "      <td>2022-06-18</td>\n",
       "      <td>13</td>\n",
       "    </tr>\n",
       "    <tr>\n",
       "      <th>16</th>\n",
       "      <td>Fractally in Orbit</td>\n",
       "      <td>2022-06-25</td>\n",
       "      <td>31</td>\n",
       "    </tr>\n",
       "    <tr>\n",
       "      <th>17</th>\n",
       "      <td>Team fractally</td>\n",
       "      <td>2022-03-26</td>\n",
       "      <td>118</td>\n",
       "    </tr>\n",
       "    <tr>\n",
       "      <th>18</th>\n",
       "      <td>Team fractally</td>\n",
       "      <td>2022-04-02</td>\n",
       "      <td>89</td>\n",
       "    </tr>\n",
       "    <tr>\n",
       "      <th>19</th>\n",
       "      <td>Team fractally</td>\n",
       "      <td>2022-04-09</td>\n",
       "      <td>89</td>\n",
       "    </tr>\n",
       "    <tr>\n",
       "      <th>20</th>\n",
       "      <td>Team fractally</td>\n",
       "      <td>2022-04-23</td>\n",
       "      <td>68</td>\n",
       "    </tr>\n",
       "    <tr>\n",
       "      <th>21</th>\n",
       "      <td>Team fractally</td>\n",
       "      <td>2022-04-30</td>\n",
       "      <td>84</td>\n",
       "    </tr>\n",
       "    <tr>\n",
       "      <th>22</th>\n",
       "      <td>Team fractally</td>\n",
       "      <td>2022-05-07</td>\n",
       "      <td>102</td>\n",
       "    </tr>\n",
       "    <tr>\n",
       "      <th>23</th>\n",
       "      <td>Team fractally</td>\n",
       "      <td>2022-05-14</td>\n",
       "      <td>63</td>\n",
       "    </tr>\n",
       "    <tr>\n",
       "      <th>24</th>\n",
       "      <td>Team fractally</td>\n",
       "      <td>2022-05-21</td>\n",
       "      <td>76</td>\n",
       "    </tr>\n",
       "    <tr>\n",
       "      <th>25</th>\n",
       "      <td>Team fractally</td>\n",
       "      <td>2022-05-28</td>\n",
       "      <td>100</td>\n",
       "    </tr>\n",
       "    <tr>\n",
       "      <th>26</th>\n",
       "      <td>Team fractally</td>\n",
       "      <td>2022-06-04</td>\n",
       "      <td>110</td>\n",
       "    </tr>\n",
       "    <tr>\n",
       "      <th>27</th>\n",
       "      <td>Team fractally</td>\n",
       "      <td>2022-06-11</td>\n",
       "      <td>65</td>\n",
       "    </tr>\n",
       "    <tr>\n",
       "      <th>28</th>\n",
       "      <td>Team fractally</td>\n",
       "      <td>2022-06-18</td>\n",
       "      <td>66</td>\n",
       "    </tr>\n",
       "    <tr>\n",
       "      <th>29</th>\n",
       "      <td>Team fractally</td>\n",
       "      <td>2022-06-25</td>\n",
       "      <td>110</td>\n",
       "    </tr>\n",
       "    <tr>\n",
       "      <th>30</th>\n",
       "      <td>fractally francophonie</td>\n",
       "      <td>2022-05-21</td>\n",
       "      <td>8</td>\n",
       "    </tr>\n",
       "    <tr>\n",
       "      <th>31</th>\n",
       "      <td>fractally francophonie</td>\n",
       "      <td>2022-05-28</td>\n",
       "      <td>21</td>\n",
       "    </tr>\n",
       "    <tr>\n",
       "      <th>32</th>\n",
       "      <td>fractally francophonie</td>\n",
       "      <td>2022-06-04</td>\n",
       "      <td>5</td>\n",
       "    </tr>\n",
       "    <tr>\n",
       "      <th>33</th>\n",
       "      <td>fractally francophonie</td>\n",
       "      <td>2022-06-11</td>\n",
       "      <td>16</td>\n",
       "    </tr>\n",
       "    <tr>\n",
       "      <th>34</th>\n",
       "      <td>fractally francophonie</td>\n",
       "      <td>2022-06-18</td>\n",
       "      <td>21</td>\n",
       "    </tr>\n",
       "    <tr>\n",
       "      <th>35</th>\n",
       "      <td>fractally francophonie</td>\n",
       "      <td>2022-06-25</td>\n",
       "      <td>8</td>\n",
       "    </tr>\n",
       "  </tbody>\n",
       "</table>\n",
       "</div>"
      ],
      "text/plain": [
       "                      TeamName MeetingDate  AccumulatedRespect\n",
       "0   EOS Translation Foundation  2022-04-23                  34\n",
       "1   EOS Translation Foundation  2022-04-30                  25\n",
       "2   EOS Translation Foundation  2022-05-07                  26\n",
       "3   EOS Translation Foundation  2022-05-14                  31\n",
       "4   EOS Translation Foundation  2022-05-21                  42\n",
       "5   EOS Translation Foundation  2022-05-28                  28\n",
       "6   EOS Translation Foundation  2022-06-04                  34\n",
       "7   EOS Translation Foundation  2022-06-11                  65\n",
       "8   EOS Translation Foundation  2022-06-18                  84\n",
       "9   EOS Translation Foundation  2022-06-25                  63\n",
       "10          Fractally in Orbit  2022-05-14                  29\n",
       "11          Fractally in Orbit  2022-05-21                  16\n",
       "12          Fractally in Orbit  2022-05-28                  21\n",
       "13          Fractally in Orbit  2022-06-04                  21\n",
       "14          Fractally in Orbit  2022-06-11                  15\n",
       "15          Fractally in Orbit  2022-06-18                  13\n",
       "16          Fractally in Orbit  2022-06-25                  31\n",
       "17              Team fractally  2022-03-26                 118\n",
       "18              Team fractally  2022-04-02                  89\n",
       "19              Team fractally  2022-04-09                  89\n",
       "20              Team fractally  2022-04-23                  68\n",
       "21              Team fractally  2022-04-30                  84\n",
       "22              Team fractally  2022-05-07                 102\n",
       "23              Team fractally  2022-05-14                  63\n",
       "24              Team fractally  2022-05-21                  76\n",
       "25              Team fractally  2022-05-28                 100\n",
       "26              Team fractally  2022-06-04                 110\n",
       "27              Team fractally  2022-06-11                  65\n",
       "28              Team fractally  2022-06-18                  66\n",
       "29              Team fractally  2022-06-25                 110\n",
       "30      fractally francophonie  2022-05-21                   8\n",
       "31      fractally francophonie  2022-05-28                  21\n",
       "32      fractally francophonie  2022-06-04                   5\n",
       "33      fractally francophonie  2022-06-11                  16\n",
       "34      fractally francophonie  2022-06-18                  21\n",
       "35      fractally francophonie  2022-06-25                   8"
      ]
     },
     "execution_count": 18,
     "metadata": {},
     "output_type": "execute_result"
    }
   ],
   "source": [
    "GitHubMarkdownDataFrame(dataset.df_team_respect_by_meeting_date)"
   ]
  },
  {
   "cell_type": "markdown",
   "metadata": {},
   "source": [
    "### Plot of Accumulated Team Respect vs Time"
   ]
  },
  {
   "cell_type": "markdown",
   "metadata": {},
   "source": [
    "Plot the accumulated team Respect of the Genesis fractal teams vs time."
   ]
  },
  {
   "cell_type": "code",
   "execution_count": 19,
   "metadata": {},
   "outputs": [
    {
     "data": {
      "image/png": "[encoded data removed]",
      "text/plain": [
       "<Figure size 720x432 with 1 Axes>"
      ]
     },
     "metadata": {
      "needs_background": "light"
     },
     "output_type": "display_data"
    }
   ],
   "source": [
    "plots.accumulated_team_respect_vs_time_stacked\n",
    "plt.show()"
   ]
  },
  {
   "cell_type": "markdown",
   "metadata": {},
   "source": [
    "### Total Accumulated Team Respect"
   ]
  },
  {
   "cell_type": "markdown",
   "metadata": {},
   "source": [
    "The total accumulated team Respect integrated over all teams."
   ]
  },
  {
   "cell_type": "code",
   "execution_count": 20,
   "metadata": {},
   "outputs": [
    {
     "data": {
      "text/plain": [
       "1797"
      ]
     },
     "execution_count": 20,
     "metadata": {},
     "output_type": "execute_result"
    }
   ],
   "source": [
    "dataset.total_team_respect"
   ]
  },
  {
   "cell_type": "markdown",
   "metadata": {
    "tags": []
   },
   "source": [
    "### DataFrame of Team Leaderboard"
   ]
  },
  {
   "cell_type": "markdown",
   "metadata": {},
   "source": [
    "The team leaderboard shows the the total accumulated team Respect for each team."
   ]
  },
  {
   "cell_type": "code",
   "execution_count": 21,
   "metadata": {},
   "outputs": [
    {
     "data": {
      "text/html": [
       "<div>\n",
       "<table border=\"1\" class=\"dataframe\">\n",
       "  <thead>\n",
       "    <tr style=\"text-align: right;\">\n",
       "      <th></th>\n",
       "      <th>AccumulatedRespect</th>\n",
       "    </tr>\n",
       "    <tr>\n",
       "      <th>TeamName</th>\n",
       "      <th></th>\n",
       "    </tr>\n",
       "  </thead>\n",
       "  <tbody>\n",
       "    <tr>\n",
       "      <th>Team fractally</th>\n",
       "      <td>1140</td>\n",
       "    </tr>\n",
       "    <tr>\n",
       "      <th>EOS Translation Foundation</th>\n",
       "      <td>432</td>\n",
       "    </tr>\n",
       "    <tr>\n",
       "      <th>Fractally in Orbit</th>\n",
       "      <td>146</td>\n",
       "    </tr>\n",
       "    <tr>\n",
       "      <th>fractally francophonie</th>\n",
       "      <td>79</td>\n",
       "    </tr>\n",
       "  </tbody>\n",
       "</table>\n",
       "</div>"
      ],
      "text/plain": [
       "                            AccumulatedRespect\n",
       "TeamName                                      \n",
       "Team fractally                            1140\n",
       "EOS Translation Foundation                 432\n",
       "Fractally in Orbit                         146\n",
       "fractally francophonie                      79"
      ]
     },
     "execution_count": 21,
     "metadata": {},
     "output_type": "execute_result"
    }
   ],
   "source": [
    "GitHubMarkdownDataFrame(dataset.df_team_leader_board)"
   ]
  },
  {
   "cell_type": "markdown",
   "metadata": {},
   "source": [
    "### Plot of Team Representation"
   ]
  },
  {
   "cell_type": "markdown",
   "metadata": {},
   "source": [
    "Plot the fraction of members representing teams over time."
   ]
  },
  {
   "cell_type": "code",
   "execution_count": 22,
   "metadata": {},
   "outputs": [
    {
     "data": {
      "image/png": "[encoded data removed]",
      "text/plain": [
       "<Figure size 720x432 with 1 Axes>"
      ]
     },
     "metadata": {
      "needs_background": "light"
     },
     "output_type": "display_data"
    }
   ],
   "source": [
    "plots.team_representation_vs_time\n",
    "plt.show()"
   ]
  },
  {
   "cell_type": "markdown",
   "metadata": {},
   "source": [
    "### Average Team Representation per Meeting"
   ]
  },
  {
   "cell_type": "markdown",
   "metadata": {},
   "source": [
    "The average team representation per meeting. This is the number of members in attendance that are members of a team divided by the total number of members in attendance."
   ]
  },
  {
   "cell_type": "code",
   "execution_count": 23,
   "metadata": {},
   "outputs": [
    {
     "data": {
      "text/plain": [
       "Statistics(mean=0.33, standard_deviation=0.12)"
      ]
     },
     "execution_count": 23,
     "metadata": {},
     "output_type": "execute_result"
    }
   ],
   "source": [
    "dataset.team_representation_stats"
   ]
  },
  {
   "cell_type": "markdown",
   "metadata": {},
   "source": [
    "### DataFrame of Level vs Attendance"
   ]
  },
  {
   "cell_type": "markdown",
   "metadata": {},
   "source": [
    "Inspect the DataFrame for the accumulated level as discerned by the Genesis fractal for each member."
   ]
  },
  {
   "cell_type": "code",
   "execution_count": 24,
   "metadata": {},
   "outputs": [
    {
     "data": {
      "text/html": [
       "<div>\n",
       "<table border=\"1\" class=\"dataframe\">\n",
       "  <thead>\n",
       "    <tr style=\"text-align: right;\">\n",
       "      <th></th>\n",
       "      <th>AttendanceCount</th>\n",
       "      <th>AccumulatedLevel</th>\n",
       "      <th>AccumulatedRespect</th>\n",
       "      <th>Mean</th>\n",
       "      <th>StandardDeviation</th>\n",
       "    </tr>\n",
       "    <tr>\n",
       "      <th>MemberID</th>\n",
       "      <th></th>\n",
       "      <th></th>\n",
       "      <th></th>\n",
       "      <th></th>\n",
       "      <th></th>\n",
       "    </tr>\n",
       "  </thead>\n",
       "  <tbody>\n",
       "    <tr>\n",
       "      <th>00</th>\n",
       "      <td>1</td>\n",
       "      <td>4</td>\n",
       "      <td>8</td>\n",
       "      <td>4.0000</td>\n",
       "      <td>NaN</td>\n",
       "    </tr>\n",
       "    <tr>\n",
       "      <th>01</th>\n",
       "      <td>1</td>\n",
       "      <td>3</td>\n",
       "      <td>5</td>\n",
       "      <td>3.0000</td>\n",
       "      <td>NaN</td>\n",
       "    </tr>\n",
       "    <tr>\n",
       "      <th>02</th>\n",
       "      <td>1</td>\n",
       "      <td>2</td>\n",
       "      <td>3</td>\n",
       "      <td>2.0000</td>\n",
       "      <td>NaN</td>\n",
       "    </tr>\n",
       "    <tr>\n",
       "      <th>03</th>\n",
       "      <td>1</td>\n",
       "      <td>2</td>\n",
       "      <td>3</td>\n",
       "      <td>2.0000</td>\n",
       "      <td>NaN</td>\n",
       "    </tr>\n",
       "    <tr>\n",
       "      <th>04</th>\n",
       "      <td>1</td>\n",
       "      <td>1</td>\n",
       "      <td>2</td>\n",
       "      <td>1.0000</td>\n",
       "      <td>NaN</td>\n",
       "    </tr>\n",
       "    <tr>\n",
       "      <th>...</th>\n",
       "      <td>...</td>\n",
       "      <td>...</td>\n",
       "      <td>...</td>\n",
       "      <td>...</td>\n",
       "      <td>...</td>\n",
       "    </tr>\n",
       "    <tr>\n",
       "      <th>wigglesthe3r</th>\n",
       "      <td>2</td>\n",
       "      <td>7</td>\n",
       "      <td>13</td>\n",
       "      <td>3.5000</td>\n",
       "      <td>0.707107</td>\n",
       "    </tr>\n",
       "    <tr>\n",
       "      <th>wildwex</th>\n",
       "      <td>16</td>\n",
       "      <td>83</td>\n",
       "      <td>251</td>\n",
       "      <td>5.1875</td>\n",
       "      <td>1.046821</td>\n",
       "    </tr>\n",
       "    <tr>\n",
       "      <th>willspatrick</th>\n",
       "      <td>1</td>\n",
       "      <td>1</td>\n",
       "      <td>2</td>\n",
       "      <td>1.0000</td>\n",
       "      <td>NaN</td>\n",
       "    </tr>\n",
       "    <tr>\n",
       "      <th>zeos</th>\n",
       "      <td>2</td>\n",
       "      <td>4</td>\n",
       "      <td>7</td>\n",
       "      <td>2.0000</td>\n",
       "      <td>1.414214</td>\n",
       "    </tr>\n",
       "    <tr>\n",
       "      <th>zhenek</th>\n",
       "      <td>1</td>\n",
       "      <td>3</td>\n",
       "      <td>5</td>\n",
       "      <td>3.0000</td>\n",
       "      <td>NaN</td>\n",
       "    </tr>\n",
       "  </tbody>\n",
       "</table>\n",
       "<p>112 rows × 5 columns</p>\n",
       "</div>"
      ],
      "text/plain": [
       "              AttendanceCount  AccumulatedLevel  AccumulatedRespect    Mean  \\\n",
       "MemberID                                                                      \n",
       "00                          1                 4                   8  4.0000   \n",
       "01                          1                 3                   5  3.0000   \n",
       "02                          1                 2                   3  2.0000   \n",
       "03                          1                 2                   3  2.0000   \n",
       "04                          1                 1                   2  1.0000   \n",
       "...                       ...               ...                 ...     ...   \n",
       "wigglesthe3r                2                 7                  13  3.5000   \n",
       "wildwex                    16                83                 251  5.1875   \n",
       "willspatrick                1                 1                   2  1.0000   \n",
       "zeos                        2                 4                   7  2.0000   \n",
       "zhenek                      1                 3                   5  3.0000   \n",
       "\n",
       "              StandardDeviation  \n",
       "MemberID                         \n",
       "00                          NaN  \n",
       "01                          NaN  \n",
       "02                          NaN  \n",
       "03                          NaN  \n",
       "04                          NaN  \n",
       "...                         ...  \n",
       "wigglesthe3r           0.707107  \n",
       "wildwex                1.046821  \n",
       "willspatrick                NaN  \n",
       "zeos                   1.414214  \n",
       "zhenek                      NaN  \n",
       "\n",
       "[112 rows x 5 columns]"
      ]
     },
     "execution_count": 24,
     "metadata": {},
     "output_type": "execute_result"
    }
   ],
   "source": [
    "GitHubMarkdownDataFrame(dataset.df_member_summary_stats_by_member_id)"
   ]
  },
  {
   "cell_type": "markdown",
   "metadata": {},
   "source": [
    "### DataFrame of Accumulated Level vs Attendance"
   ]
  },
  {
   "cell_type": "markdown",
   "metadata": {},
   "source": [
    "Inspect the DataFrame for the mean accumulated level based on meeting attendance."
   ]
  },
  {
   "cell_type": "code",
   "execution_count": 25,
   "metadata": {},
   "outputs": [
    {
     "data": {
      "text/html": [
       "<div>\n",
       "<table border=\"1\" class=\"dataframe\">\n",
       "  <thead>\n",
       "    <tr style=\"text-align: right;\">\n",
       "      <th></th>\n",
       "      <th>AttendanceCount</th>\n",
       "      <th>Mean</th>\n",
       "      <th>StandardDeviation</th>\n",
       "    </tr>\n",
       "  </thead>\n",
       "  <tbody>\n",
       "    <tr>\n",
       "      <th>0</th>\n",
       "      <td>1</td>\n",
       "      <td>2.346939</td>\n",
       "      <td>1.283729</td>\n",
       "    </tr>\n",
       "    <tr>\n",
       "      <th>1</th>\n",
       "      <td>2</td>\n",
       "      <td>3.200000</td>\n",
       "      <td>1.823819</td>\n",
       "    </tr>\n",
       "    <tr>\n",
       "      <th>2</th>\n",
       "      <td>3</td>\n",
       "      <td>1.333333</td>\n",
       "      <td>0.500000</td>\n",
       "    </tr>\n",
       "    <tr>\n",
       "      <th>3</th>\n",
       "      <td>4</td>\n",
       "      <td>3.625000</td>\n",
       "      <td>1.468880</td>\n",
       "    </tr>\n",
       "    <tr>\n",
       "      <th>4</th>\n",
       "      <td>5</td>\n",
       "      <td>3.100000</td>\n",
       "      <td>1.370320</td>\n",
       "    </tr>\n",
       "    <tr>\n",
       "      <th>5</th>\n",
       "      <td>6</td>\n",
       "      <td>3.333333</td>\n",
       "      <td>1.734396</td>\n",
       "    </tr>\n",
       "    <tr>\n",
       "      <th>6</th>\n",
       "      <td>7</td>\n",
       "      <td>3.095238</td>\n",
       "      <td>1.513432</td>\n",
       "    </tr>\n",
       "    <tr>\n",
       "      <th>7</th>\n",
       "      <td>8</td>\n",
       "      <td>2.708333</td>\n",
       "      <td>1.197068</td>\n",
       "    </tr>\n",
       "    <tr>\n",
       "      <th>8</th>\n",
       "      <td>9</td>\n",
       "      <td>3.805556</td>\n",
       "      <td>1.369451</td>\n",
       "    </tr>\n",
       "    <tr>\n",
       "      <th>9</th>\n",
       "      <td>10</td>\n",
       "      <td>5.200000</td>\n",
       "      <td>1.186127</td>\n",
       "    </tr>\n",
       "    <tr>\n",
       "      <th>10</th>\n",
       "      <td>11</td>\n",
       "      <td>3.242424</td>\n",
       "      <td>1.871335</td>\n",
       "    </tr>\n",
       "    <tr>\n",
       "      <th>11</th>\n",
       "      <td>12</td>\n",
       "      <td>3.750000</td>\n",
       "      <td>1.380993</td>\n",
       "    </tr>\n",
       "    <tr>\n",
       "      <th>12</th>\n",
       "      <td>13</td>\n",
       "      <td>3.307692</td>\n",
       "      <td>1.489504</td>\n",
       "    </tr>\n",
       "    <tr>\n",
       "      <th>13</th>\n",
       "      <td>14</td>\n",
       "      <td>4.357143</td>\n",
       "      <td>1.725930</td>\n",
       "    </tr>\n",
       "    <tr>\n",
       "      <th>14</th>\n",
       "      <td>15</td>\n",
       "      <td>4.200000</td>\n",
       "      <td>1.214851</td>\n",
       "    </tr>\n",
       "    <tr>\n",
       "      <th>15</th>\n",
       "      <td>16</td>\n",
       "      <td>4.177083</td>\n",
       "      <td>1.542348</td>\n",
       "    </tr>\n",
       "    <tr>\n",
       "      <th>16</th>\n",
       "      <td>17</td>\n",
       "      <td>4.215686</td>\n",
       "      <td>1.500849</td>\n",
       "    </tr>\n",
       "  </tbody>\n",
       "</table>\n",
       "</div>"
      ],
      "text/plain": [
       "    AttendanceCount      Mean  StandardDeviation\n",
       "0                 1  2.346939           1.283729\n",
       "1                 2  3.200000           1.823819\n",
       "2                 3  1.333333           0.500000\n",
       "3                 4  3.625000           1.468880\n",
       "4                 5  3.100000           1.370320\n",
       "5                 6  3.333333           1.734396\n",
       "6                 7  3.095238           1.513432\n",
       "7                 8  2.708333           1.197068\n",
       "8                 9  3.805556           1.369451\n",
       "9                10  5.200000           1.186127\n",
       "10               11  3.242424           1.871335\n",
       "11               12  3.750000           1.380993\n",
       "12               13  3.307692           1.489504\n",
       "13               14  4.357143           1.725930\n",
       "14               15  4.200000           1.214851\n",
       "15               16  4.177083           1.542348\n",
       "16               17  4.215686           1.500849"
      ]
     },
     "execution_count": 25,
     "metadata": {},
     "output_type": "execute_result"
    }
   ],
   "source": [
    "GitHubMarkdownDataFrame(dataset.df_member_level_by_attendance_count)"
   ]
  },
  {
   "cell_type": "markdown",
   "metadata": {},
   "source": [
    "The mean accumulated level is strongly correlated with meeting attendance."
   ]
  },
  {
   "cell_type": "code",
   "execution_count": 26,
   "metadata": {},
   "outputs": [
    {
     "data": {
      "text/html": [
       "<div>\n",
       "<table border=\"1\" class=\"dataframe\">\n",
       "  <thead>\n",
       "    <tr style=\"text-align: right;\">\n",
       "      <th></th>\n",
       "      <th>AttendanceCount</th>\n",
       "      <th>Mean</th>\n",
       "    </tr>\n",
       "  </thead>\n",
       "  <tbody>\n",
       "    <tr>\n",
       "      <th>AttendanceCount</th>\n",
       "      <td>1.000000</td>\n",
       "      <td>0.667038</td>\n",
       "    </tr>\n",
       "    <tr>\n",
       "      <th>Mean</th>\n",
       "      <td>0.667038</td>\n",
       "      <td>1.000000</td>\n",
       "    </tr>\n",
       "  </tbody>\n",
       "</table>\n",
       "</div>"
      ],
      "text/plain": [
       "                 AttendanceCount      Mean\n",
       "AttendanceCount         1.000000  0.667038\n",
       "Mean                    0.667038  1.000000"
      ]
     },
     "execution_count": 26,
     "metadata": {},
     "output_type": "execute_result"
    }
   ],
   "source": [
    "GitHubMarkdownDataFrame(dataset.df_member_level_by_attendance_count[['AttendanceCount', 'Mean']].corr())"
   ]
  },
  {
   "cell_type": "markdown",
   "metadata": {},
   "source": [
    "### Plot of Attendance Consistency vs Level"
   ]
  },
  {
   "cell_type": "markdown",
   "metadata": {},
   "source": [
    "Based on this strong correlation, plot the change in level vs the number of meetings attended."
   ]
  },
  {
   "cell_type": "code",
   "execution_count": 27,
   "metadata": {},
   "outputs": [
    {
     "data": {
      "image/png": "[encoded data removed]",
      "text/plain": [
       "<Figure size 720x432 with 1 Axes>"
      ]
     },
     "metadata": {
      "needs_background": "light"
     },
     "output_type": "display_data"
    }
   ],
   "source": [
    "plots.attendance_count_vs_level\n",
    "plt.show()"
   ]
  },
  {
   "cell_type": "markdown",
   "metadata": {},
   "source": [
    "As the plot shows, on average a member's level trends higher in subsequent weeks based on the number of past weekly consensus meetings they have participated in. Possible reasons for this phenomena include:\n",
    "\n",
    "* Over time members learn what their fellow members value and come into alignment with those values.\n",
    "* Over time members begin to imitate their higher level colleagues from watching how they conduct themselves.\n",
    "* There is a self-selection process going on. This is an interesting idea for further analysis."
   ]
  },
  {
   "cell_type": "markdown",
   "metadata": {},
   "source": [
    "## Getting Started for Software Engineers\n",
    "\n",
    "I use my M1 MacBook for software engineering, and the following steps reflect that architecture.\n",
    "\n",
    "### Step 1 (one time setup):\n",
    "\n",
    "Install [bazel](https://bazel.build) on your `PATH`. I do this using [bazelisk](https://github.com/bazelbuild/bazelisk). \n",
    "\n",
    "```bash\n",
    "curl -LJO https://github.com/bazelbuild/bazelisk/releases/download/v1.11.0/bazelisk-darwin-arm64\n",
    "chmod a+x bazelisk-darwin-arm64\n",
    "ln -s bazelisk-darwin-arm64 bazel\n",
    "```\n",
    "\n",
    "### Step 2 (one time setup):\n",
    "\n",
    "Install [buildifier](https://github.com/bazelbuild/buildtools/blob/master/buildifier/README.md) on your `PATH`.\n",
    "\n",
    "You need `buildifier` for linting and formatting the bazel files [WORKSPACE](WORKSPACE) and [BUILD](BUILD) if you change them. \n",
    "\n",
    "```bash\n",
    "curl -LJO https://github.com/bazelbuild/buildtools/releases/download/5.1.0/buildifier-darwin-arm64\n",
    "chmod a+x buildifier-darwin-arm64\n",
    "ln -s buildifier-darwin-arm64 buildifier\n",
    "```\n",
    "\n",
    "### Step 3 (one time setup):\n",
    "\n",
    "Install [Xcode from the App Store](https://apps.apple.com/us/app/xcode/id497799835?mt=12).\n",
    "\n",
    "\n",
    "### Step 4 (one time setup; optional):\n",
    "\n",
    "I needed to create the following symlink on my M1 MacBook.\n",
    "\n",
    "```base\n",
    "pushd /Applications/Xcode.app/Contents/Developer/Platforms/MacOSX.platform/Developer/SDKs/\n",
    "sudo ln -s MacOSX.sdk MacOSX12.1.sdk\n",
    "popd\n",
    "```\n",
    "\n",
    "This symlink was required to work around this error during `bazel test //...`.\n",
    "\n",
    "> Compiling with an SDK that doesn't seem to exist: /Applications/Xcode.app/Contents/Developer/Platforms/MacOSX.platform/Developer/SDKs/MacOSX12.1.sdk\n",
    "> Please check your Xcode installation\n",
    "\n",
    "### Step 5:\n",
    "\n",
    "Clone this repo and build all targets.\n",
    "\n",
    "```bash\n",
    "bazel build //...\n",
    "```\n",
    "\n",
    "### Step 6:\n",
    "\n",
    "Run all unit tests.\n",
    "\n",
    "```bash\n",
    "bazel test //...\n",
    "```"
   ]
  },
  {
   "cell_type": "markdown",
   "metadata": {
    "jp-MarkdownHeadingCollapsed": true,
    "tags": []
   },
   "source": [
    "## Notes for Contributors\n",
    "\n",
    "You are encouraged to collaborate and contribute to this project. Please ask questions and share your insights and discoveries in the [Modeling and Simulation](https://gofractally.com/groups/7064857/topics/7623063) topic of [gofractally.com](https://gofractally.com).\n",
    "\n",
    "Please perform the following procedures before opening a pull request for this project. These manual procedures are temporary and will eventually be incorporated into bazel targets and enforced through CI.\n",
    "\n",
    "### Python Dependencies\n",
    "\n",
    "The source of truth for this project's python dependencies is the [Pipfile](Pipfile) file. The following three files are derived from this Pipfile file and must be regenerated after changing it:\n",
    "\n",
    "1. [Pipfile.lock](Pipfile.lock)\n",
    "2. [requirements.txt](requirements.txt)\n",
    "3. [requirements-dev.txt](requirements-dev.txt)\n",
    "\n",
    "This project's bazel repository, defined in [WORKSPACE](WORKSPACE), depends on [requirements.txt](requirements.txt) to define the python dependencies for bazel targets throughout this project.\n",
    "\n",
    "The [Streamlit app](fractal_governance/streamlit/genesis_fractal.py) also depends on [requirements.txt](requirements.txt) to define its runtime python dependencies.\n",
    "\n",
    "Developer tools, like `jupyterlab` code formatters and linters, depend on [requirements-dev.txt](requirements-dev.txt) to define its runtime python dependencies.\n",
    "\n",
    "The following procedure is how I update these three derived files after changing the [Pipfile](Pipfile) file. You will need `pipenv` for this step, so if you don't have this development tool installed then you may want to follow the steps labeled **one time setup** in [Getting Started for Data Scientists](#getting-started-for-data-scientists).\n",
    "\n",
    "```\n",
    "pipenv install --dev\n",
    "pipenv lock -r > requirements.txt\n",
    "pipenv lock --dev -r > requirements-dev.txt\n",
    "```\n",
    "\n",
    "Check that the [README.ipynb](notebook/README.ipynb) notebook and [Streamlit app](fractal_governance/streamlit/genesis_fractal.py) still run by following the procedure in [Getting Started for Data Scientists](#getting-started-for-data-scientists), and that the unit tests still pass by following the procedure in [Getting Started for Software Engineers](#getting-started-for-software-engineers).\n",
    "\n",
    "### Format and Lint Python Source Code\n",
    "\n",
    "Please use the following procedure to format and lint the python source code after making any changes.\n",
    "\n",
    "```bash\n",
    "find fractal_governance test -name '*.py' -print0 | xargs -0 pipenv run yapf -i\n",
    "find fractal_governance test -name '*.py' -print0 | xargs -0 pipenv run pylint\n",
    "```\n",
    "\n",
    "### Format and Lint Bazel Source Files\n",
    "\n",
    "Please use the following procedure to format and lint the bazel source files.\n",
    "\n",
    "```bash\n",
    "find . -type f -name \"BUILD\" -or -name \"WORKSPACE\" -print0 | xargs -0 buildifier -lint fix\n",
    "```\n",
    "\n",
    "### Updating README.md\n",
    "\n",
    "The source of truth for this project's [README.md](README.md) file is the [README.ipynb](notebook/README.ipynb) notebook. The following procedure is how I update the [README.md](README.md) file after changing the [README.ipynb](notebook/README.ipynb) notebook.\n",
    "\n",
    "#### Step 1 (one time setup):\n",
    "```bash\n",
    "pipenv run nodeenv -p\n",
    "pipenv run npm install -g doctoc\n",
    "```\n",
    "\n",
    "#### Step 2:\n",
    "```bash\n",
    "rm -rf README_files\n",
    "pipenv run jupyter nbconvert --to markdown notebook/README.ipynb --output-dir .\n",
    "pipenv run doctoc README.md\n",
    "```"
   ]
  },
  {
   "cell_type": "markdown",
   "metadata": {},
   "source": [
    "## Resources\n",
    "\n",
    "Resources to learn more about Fractal Governance:\n",
    "\n",
    "\n",
    "- [fractally White Paper](https://fractally.com)\n",
    "- [More Equal Animals](https://moreequalanimals.com) by Daniel Larimer\n",
    "- [First Results from the Fractal Governance Experiments](https://hive.blog/fractally/@mattlangston/first-results-from-the-fractal-governance-experiments)\n",
    "- [Genesis Fractal Dashboard](https://share.streamlit.io/matt-langston/fractal_governance/main/fractal_governance/streamlit/genesis_fractal.py)\n",
    "- [Modeling and Simulation](https://gofractally.com/groups/7064857/topics/7623063) topic on [gofractally.com](https://gofractally.com)\n",
    "\n",
    "If you contribute new Jupyter notebooks then please place them in the [notebook](notebook) directory."
   ]
  },
  {
   "cell_type": "markdown",
   "metadata": {},
   "source": [
    "## License\n",
    "\n",
    "This project is licensed under the terms of the MIT license as defined in the [LICENSE](LICENSE) file."
   ]
  }
 ],
 "metadata": {
  "hide_input": false,
  "kernelspec": {
   "display_name": "Python 3 (ipykernel)",
   "language": "python",
   "name": "python3"
  },
  "language_info": {
   "codemirror_mode": {
    "name": "ipython",
    "version": 3
   },
   "file_extension": ".py",
   "mimetype": "text/x-python",
   "name": "python",
   "nbconvert_exporter": "python",
   "pygments_lexer": "ipython3",
   "version": "3.9.10"
  },
  "toc-showtags": true
 },
 "nbformat": 4,
 "nbformat_minor": 4
}
